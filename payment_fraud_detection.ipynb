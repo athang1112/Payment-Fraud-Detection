{
 "cells": [
  {
   "cell_type": "markdown",
   "metadata": {},
   "source": [
    "# Online Payment Fraud Detection\n",
    "\n",
    "\n",
    "One approach to tackle this problem is\n",
    "\n",
    "**Transaction monitoring:** This involves using machine learning algorithms to analyze transactions in real-time, looking for patterns or anomalies that may indicate fraud. For example, a sudden increase in the number of transactions or a change in transaction patterns may indicate fraudulent activity.\n",
    "\n",
    "Hence, inorder to identify online payment fraud with machine learning, we need to train a machine learning model for classifying fraudulent and non-fraudulent payments."
   ]
  },
  {
   "cell_type": "markdown",
   "metadata": {},
   "source": [
    "# About Dataset\n",
    "\n",
    "There are 6362620 rows and 11 columns in our dataset.\n",
    "\n",
    "* step: represents a unit of time where 1 step equals 1 hour\n",
    "* type: type of online transaction\n",
    "* amount: the amount of the transaction\n",
    "* nameOrig: customer starting the transaction\n",
    "* oldbalanceOrg: balance before the transaction\n",
    "* newbalanceOrig: balance after the transaction\n",
    "* nameDest: recipient of the transaction\n",
    "* oldbalanceDest: initial balance of recipient before the transaction\n",
    "* newbalanceDest: the new balance of recipient after the transaction\n",
    "* isFraud: fraud transaction\n",
    "* isFlaggedFraud: Flagged fraud transaction\n",
    "\n"
   ]
  },
  {
   "cell_type": "code",
   "execution_count": 1,
   "metadata": {
    "execution": {
     "iopub.execute_input": "2023-02-16T11:05:59.017815Z",
     "iopub.status.busy": "2023-02-16T11:05:59.017305Z",
     "iopub.status.idle": "2023-02-16T11:05:59.023565Z",
     "shell.execute_reply": "2023-02-16T11:05:59.022339Z",
     "shell.execute_reply.started": "2023-02-16T11:05:59.017752Z"
    }
   },
   "outputs": [],
   "source": [
    "import numpy as np\n",
    "import pandas as pd"
   ]
  },
  {
   "cell_type": "code",
   "execution_count": 2,
   "metadata": {
    "execution": {
     "iopub.execute_input": "2023-02-16T11:05:59.043634Z",
     "iopub.status.busy": "2023-02-16T11:05:59.042945Z",
     "iopub.status.idle": "2023-02-16T11:06:16.848873Z",
     "shell.execute_reply": "2023-02-16T11:06:16.847714Z",
     "shell.execute_reply.started": "2023-02-16T11:05:59.043598Z"
    }
   },
   "outputs": [
    {
     "data": {
      "text/plain": [
       "(6362620, 11)"
      ]
     },
     "execution_count": 2,
     "metadata": {},
     "output_type": "execute_result"
    }
   ],
   "source": [
    "data = pd.read_csv('Fraud.csv')\n",
    "data.shape"
   ]
  },
  {
   "cell_type": "code",
   "execution_count": 3,
   "metadata": {
    "execution": {
     "iopub.execute_input": "2023-02-16T11:06:16.851221Z",
     "iopub.status.busy": "2023-02-16T11:06:16.850837Z",
     "iopub.status.idle": "2023-02-16T11:06:16.871129Z",
     "shell.execute_reply": "2023-02-16T11:06:16.869665Z",
     "shell.execute_reply.started": "2023-02-16T11:06:16.851189Z"
    }
   },
   "outputs": [
    {
     "data": {
      "text/html": [
       "<div>\n",
       "<style scoped>\n",
       "    .dataframe tbody tr th:only-of-type {\n",
       "        vertical-align: middle;\n",
       "    }\n",
       "\n",
       "    .dataframe tbody tr th {\n",
       "        vertical-align: top;\n",
       "    }\n",
       "\n",
       "    .dataframe thead th {\n",
       "        text-align: right;\n",
       "    }\n",
       "</style>\n",
       "<table border=\"1\" class=\"dataframe\">\n",
       "  <thead>\n",
       "    <tr style=\"text-align: right;\">\n",
       "      <th></th>\n",
       "      <th>step</th>\n",
       "      <th>type</th>\n",
       "      <th>amount</th>\n",
       "      <th>nameOrig</th>\n",
       "      <th>oldbalanceOrg</th>\n",
       "      <th>newbalanceOrig</th>\n",
       "      <th>nameDest</th>\n",
       "      <th>oldbalanceDest</th>\n",
       "      <th>newbalanceDest</th>\n",
       "      <th>isFraud</th>\n",
       "      <th>isFlaggedFraud</th>\n",
       "    </tr>\n",
       "  </thead>\n",
       "  <tbody>\n",
       "    <tr>\n",
       "      <th>0</th>\n",
       "      <td>1</td>\n",
       "      <td>PAYMENT</td>\n",
       "      <td>9839.64</td>\n",
       "      <td>C1231006815</td>\n",
       "      <td>170136.0</td>\n",
       "      <td>160296.36</td>\n",
       "      <td>M1979787155</td>\n",
       "      <td>0.0</td>\n",
       "      <td>0.0</td>\n",
       "      <td>0</td>\n",
       "      <td>0</td>\n",
       "    </tr>\n",
       "    <tr>\n",
       "      <th>1</th>\n",
       "      <td>1</td>\n",
       "      <td>PAYMENT</td>\n",
       "      <td>1864.28</td>\n",
       "      <td>C1666544295</td>\n",
       "      <td>21249.0</td>\n",
       "      <td>19384.72</td>\n",
       "      <td>M2044282225</td>\n",
       "      <td>0.0</td>\n",
       "      <td>0.0</td>\n",
       "      <td>0</td>\n",
       "      <td>0</td>\n",
       "    </tr>\n",
       "    <tr>\n",
       "      <th>2</th>\n",
       "      <td>1</td>\n",
       "      <td>TRANSFER</td>\n",
       "      <td>181.00</td>\n",
       "      <td>C1305486145</td>\n",
       "      <td>181.0</td>\n",
       "      <td>0.00</td>\n",
       "      <td>C553264065</td>\n",
       "      <td>0.0</td>\n",
       "      <td>0.0</td>\n",
       "      <td>1</td>\n",
       "      <td>0</td>\n",
       "    </tr>\n",
       "    <tr>\n",
       "      <th>3</th>\n",
       "      <td>1</td>\n",
       "      <td>CASH_OUT</td>\n",
       "      <td>181.00</td>\n",
       "      <td>C840083671</td>\n",
       "      <td>181.0</td>\n",
       "      <td>0.00</td>\n",
       "      <td>C38997010</td>\n",
       "      <td>21182.0</td>\n",
       "      <td>0.0</td>\n",
       "      <td>1</td>\n",
       "      <td>0</td>\n",
       "    </tr>\n",
       "    <tr>\n",
       "      <th>4</th>\n",
       "      <td>1</td>\n",
       "      <td>PAYMENT</td>\n",
       "      <td>11668.14</td>\n",
       "      <td>C2048537720</td>\n",
       "      <td>41554.0</td>\n",
       "      <td>29885.86</td>\n",
       "      <td>M1230701703</td>\n",
       "      <td>0.0</td>\n",
       "      <td>0.0</td>\n",
       "      <td>0</td>\n",
       "      <td>0</td>\n",
       "    </tr>\n",
       "  </tbody>\n",
       "</table>\n",
       "</div>"
      ],
      "text/plain": [
       "   step      type    amount     nameOrig  oldbalanceOrg  newbalanceOrig  \\\n",
       "0     1   PAYMENT   9839.64  C1231006815       170136.0       160296.36   \n",
       "1     1   PAYMENT   1864.28  C1666544295        21249.0        19384.72   \n",
       "2     1  TRANSFER    181.00  C1305486145          181.0            0.00   \n",
       "3     1  CASH_OUT    181.00   C840083671          181.0            0.00   \n",
       "4     1   PAYMENT  11668.14  C2048537720        41554.0        29885.86   \n",
       "\n",
       "      nameDest  oldbalanceDest  newbalanceDest  isFraud  isFlaggedFraud  \n",
       "0  M1979787155             0.0             0.0        0               0  \n",
       "1  M2044282225             0.0             0.0        0               0  \n",
       "2   C553264065             0.0             0.0        1               0  \n",
       "3    C38997010         21182.0             0.0        1               0  \n",
       "4  M1230701703             0.0             0.0        0               0  "
      ]
     },
     "execution_count": 3,
     "metadata": {},
     "output_type": "execute_result"
    }
   ],
   "source": [
    "data.head()"
   ]
  },
  {
   "cell_type": "code",
   "execution_count": 4,
   "metadata": {
    "execution": {
     "iopub.execute_input": "2023-02-16T11:06:16.873286Z",
     "iopub.status.busy": "2023-02-16T11:06:16.872862Z",
     "iopub.status.idle": "2023-02-16T11:06:16.888838Z",
     "shell.execute_reply": "2023-02-16T11:06:16.887577Z",
     "shell.execute_reply.started": "2023-02-16T11:06:16.87325Z"
    }
   },
   "outputs": [
    {
     "name": "stdout",
     "output_type": "stream",
     "text": [
      "<class 'pandas.core.frame.DataFrame'>\n",
      "RangeIndex: 6362620 entries, 0 to 6362619\n",
      "Data columns (total 11 columns):\n",
      " #   Column          Dtype  \n",
      "---  ------          -----  \n",
      " 0   step            int64  \n",
      " 1   type            object \n",
      " 2   amount          float64\n",
      " 3   nameOrig        object \n",
      " 4   oldbalanceOrg   float64\n",
      " 5   newbalanceOrig  float64\n",
      " 6   nameDest        object \n",
      " 7   oldbalanceDest  float64\n",
      " 8   newbalanceDest  float64\n",
      " 9   isFraud         int64  \n",
      " 10  isFlaggedFraud  int64  \n",
      "dtypes: float64(5), int64(3), object(3)\n",
      "memory usage: 534.0+ MB\n"
     ]
    }
   ],
   "source": [
    "data.info()"
   ]
  },
  {
   "cell_type": "code",
   "execution_count": 5,
   "metadata": {
    "execution": {
     "iopub.execute_input": "2023-02-16T11:06:16.892671Z",
     "iopub.status.busy": "2023-02-16T11:06:16.89221Z",
     "iopub.status.idle": "2023-02-16T11:06:18.734312Z",
     "shell.execute_reply": "2023-02-16T11:06:18.733142Z",
     "shell.execute_reply.started": "2023-02-16T11:06:16.892623Z"
    }
   },
   "outputs": [
    {
     "data": {
      "text/html": [
       "<div>\n",
       "<style scoped>\n",
       "    .dataframe tbody tr th:only-of-type {\n",
       "        vertical-align: middle;\n",
       "    }\n",
       "\n",
       "    .dataframe tbody tr th {\n",
       "        vertical-align: top;\n",
       "    }\n",
       "\n",
       "    .dataframe thead th {\n",
       "        text-align: right;\n",
       "    }\n",
       "</style>\n",
       "<table border=\"1\" class=\"dataframe\">\n",
       "  <thead>\n",
       "    <tr style=\"text-align: right;\">\n",
       "      <th></th>\n",
       "      <th>step</th>\n",
       "      <th>amount</th>\n",
       "      <th>oldbalanceOrg</th>\n",
       "      <th>newbalanceOrig</th>\n",
       "      <th>oldbalanceDest</th>\n",
       "      <th>newbalanceDest</th>\n",
       "      <th>isFraud</th>\n",
       "      <th>isFlaggedFraud</th>\n",
       "    </tr>\n",
       "  </thead>\n",
       "  <tbody>\n",
       "    <tr>\n",
       "      <th>count</th>\n",
       "      <td>6.362620e+06</td>\n",
       "      <td>6.362620e+06</td>\n",
       "      <td>6.362620e+06</td>\n",
       "      <td>6.362620e+06</td>\n",
       "      <td>6.362620e+06</td>\n",
       "      <td>6.362620e+06</td>\n",
       "      <td>6.362620e+06</td>\n",
       "      <td>6.362620e+06</td>\n",
       "    </tr>\n",
       "    <tr>\n",
       "      <th>mean</th>\n",
       "      <td>2.433972e+02</td>\n",
       "      <td>1.798619e+05</td>\n",
       "      <td>8.338831e+05</td>\n",
       "      <td>8.551137e+05</td>\n",
       "      <td>1.100702e+06</td>\n",
       "      <td>1.224996e+06</td>\n",
       "      <td>1.290820e-03</td>\n",
       "      <td>2.514687e-06</td>\n",
       "    </tr>\n",
       "    <tr>\n",
       "      <th>std</th>\n",
       "      <td>1.423320e+02</td>\n",
       "      <td>6.038582e+05</td>\n",
       "      <td>2.888243e+06</td>\n",
       "      <td>2.924049e+06</td>\n",
       "      <td>3.399180e+06</td>\n",
       "      <td>3.674129e+06</td>\n",
       "      <td>3.590480e-02</td>\n",
       "      <td>1.585775e-03</td>\n",
       "    </tr>\n",
       "    <tr>\n",
       "      <th>min</th>\n",
       "      <td>1.000000e+00</td>\n",
       "      <td>0.000000e+00</td>\n",
       "      <td>0.000000e+00</td>\n",
       "      <td>0.000000e+00</td>\n",
       "      <td>0.000000e+00</td>\n",
       "      <td>0.000000e+00</td>\n",
       "      <td>0.000000e+00</td>\n",
       "      <td>0.000000e+00</td>\n",
       "    </tr>\n",
       "    <tr>\n",
       "      <th>25%</th>\n",
       "      <td>1.560000e+02</td>\n",
       "      <td>1.338957e+04</td>\n",
       "      <td>0.000000e+00</td>\n",
       "      <td>0.000000e+00</td>\n",
       "      <td>0.000000e+00</td>\n",
       "      <td>0.000000e+00</td>\n",
       "      <td>0.000000e+00</td>\n",
       "      <td>0.000000e+00</td>\n",
       "    </tr>\n",
       "    <tr>\n",
       "      <th>50%</th>\n",
       "      <td>2.390000e+02</td>\n",
       "      <td>7.487194e+04</td>\n",
       "      <td>1.420800e+04</td>\n",
       "      <td>0.000000e+00</td>\n",
       "      <td>1.327057e+05</td>\n",
       "      <td>2.146614e+05</td>\n",
       "      <td>0.000000e+00</td>\n",
       "      <td>0.000000e+00</td>\n",
       "    </tr>\n",
       "    <tr>\n",
       "      <th>75%</th>\n",
       "      <td>3.350000e+02</td>\n",
       "      <td>2.087215e+05</td>\n",
       "      <td>1.073152e+05</td>\n",
       "      <td>1.442584e+05</td>\n",
       "      <td>9.430367e+05</td>\n",
       "      <td>1.111909e+06</td>\n",
       "      <td>0.000000e+00</td>\n",
       "      <td>0.000000e+00</td>\n",
       "    </tr>\n",
       "    <tr>\n",
       "      <th>max</th>\n",
       "      <td>7.430000e+02</td>\n",
       "      <td>9.244552e+07</td>\n",
       "      <td>5.958504e+07</td>\n",
       "      <td>4.958504e+07</td>\n",
       "      <td>3.560159e+08</td>\n",
       "      <td>3.561793e+08</td>\n",
       "      <td>1.000000e+00</td>\n",
       "      <td>1.000000e+00</td>\n",
       "    </tr>\n",
       "  </tbody>\n",
       "</table>\n",
       "</div>"
      ],
      "text/plain": [
       "               step        amount  oldbalanceOrg  newbalanceOrig  \\\n",
       "count  6.362620e+06  6.362620e+06   6.362620e+06    6.362620e+06   \n",
       "mean   2.433972e+02  1.798619e+05   8.338831e+05    8.551137e+05   \n",
       "std    1.423320e+02  6.038582e+05   2.888243e+06    2.924049e+06   \n",
       "min    1.000000e+00  0.000000e+00   0.000000e+00    0.000000e+00   \n",
       "25%    1.560000e+02  1.338957e+04   0.000000e+00    0.000000e+00   \n",
       "50%    2.390000e+02  7.487194e+04   1.420800e+04    0.000000e+00   \n",
       "75%    3.350000e+02  2.087215e+05   1.073152e+05    1.442584e+05   \n",
       "max    7.430000e+02  9.244552e+07   5.958504e+07    4.958504e+07   \n",
       "\n",
       "       oldbalanceDest  newbalanceDest       isFraud  isFlaggedFraud  \n",
       "count    6.362620e+06    6.362620e+06  6.362620e+06    6.362620e+06  \n",
       "mean     1.100702e+06    1.224996e+06  1.290820e-03    2.514687e-06  \n",
       "std      3.399180e+06    3.674129e+06  3.590480e-02    1.585775e-03  \n",
       "min      0.000000e+00    0.000000e+00  0.000000e+00    0.000000e+00  \n",
       "25%      0.000000e+00    0.000000e+00  0.000000e+00    0.000000e+00  \n",
       "50%      1.327057e+05    2.146614e+05  0.000000e+00    0.000000e+00  \n",
       "75%      9.430367e+05    1.111909e+06  0.000000e+00    0.000000e+00  \n",
       "max      3.560159e+08    3.561793e+08  1.000000e+00    1.000000e+00  "
      ]
     },
     "execution_count": 5,
     "metadata": {},
     "output_type": "execute_result"
    }
   ],
   "source": [
    "data.describe()"
   ]
  },
  {
   "cell_type": "code",
   "execution_count": 6,
   "metadata": {
    "execution": {
     "iopub.execute_input": "2023-02-16T11:06:18.737121Z",
     "iopub.status.busy": "2023-02-16T11:06:18.736382Z",
     "iopub.status.idle": "2023-02-16T11:06:19.702921Z",
     "shell.execute_reply": "2023-02-16T11:06:19.701928Z",
     "shell.execute_reply.started": "2023-02-16T11:06:18.737056Z"
    }
   },
   "outputs": [
    {
     "name": "stdout",
     "output_type": "stream",
     "text": [
      "step              0\n",
      "type              0\n",
      "amount            0\n",
      "nameOrig          0\n",
      "oldbalanceOrg     0\n",
      "newbalanceOrig    0\n",
      "nameDest          0\n",
      "oldbalanceDest    0\n",
      "newbalanceDest    0\n",
      "isFraud           0\n",
      "isFlaggedFraud    0\n",
      "dtype: int64\n"
     ]
    }
   ],
   "source": [
    "print(data.isnull().sum())"
   ]
  },
  {
   "cell_type": "markdown",
   "metadata": {},
   "source": [
    "There are no null values in our dataset."
   ]
  },
  {
   "cell_type": "code",
   "execution_count": 7,
   "metadata": {
    "execution": {
     "iopub.execute_input": "2023-02-16T11:06:19.704506Z",
     "iopub.status.busy": "2023-02-16T11:06:19.704154Z",
     "iopub.status.idle": "2023-02-16T11:06:38.269923Z",
     "shell.execute_reply": "2023-02-16T11:06:38.267615Z",
     "shell.execute_reply.started": "2023-02-16T11:06:19.704475Z"
    }
   },
   "outputs": [
    {
     "data": {
      "text/plain": [
       "0"
      ]
     },
     "execution_count": 7,
     "metadata": {},
     "output_type": "execute_result"
    }
   ],
   "source": [
    "data.duplicated().sum()"
   ]
  },
  {
   "cell_type": "markdown",
   "metadata": {},
   "source": [
    "There are no duplicate values in our dataset."
   ]
  },
  {
   "cell_type": "markdown",
   "metadata": {},
   "source": [
    "**Checking values for few columns**"
   ]
  },
  {
   "cell_type": "code",
   "execution_count": 8,
   "metadata": {
    "execution": {
     "iopub.execute_input": "2023-02-16T11:06:38.27161Z",
     "iopub.status.busy": "2023-02-16T11:06:38.271264Z",
     "iopub.status.idle": "2023-02-16T11:06:50.290291Z",
     "shell.execute_reply": "2023-02-16T11:06:50.289207Z",
     "shell.execute_reply.started": "2023-02-16T11:06:38.27158Z"
    }
   },
   "outputs": [
    {
     "data": {
      "text/plain": [
       "C1902386530    3\n",
       "C363736674     3\n",
       "C545315117     3\n",
       "C724452879     3\n",
       "C1784010646    3\n",
       "              ..\n",
       "C98968405      1\n",
       "C720209255     1\n",
       "C1567523029    1\n",
       "C644777639     1\n",
       "C1280323807    1\n",
       "Name: nameOrig, Length: 6353307, dtype: int64"
      ]
     },
     "execution_count": 8,
     "metadata": {},
     "output_type": "execute_result"
    }
   ],
   "source": [
    "data.nameOrig.value_counts()"
   ]
  },
  {
   "cell_type": "code",
   "execution_count": 9,
   "metadata": {
    "execution": {
     "iopub.execute_input": "2023-02-16T11:06:50.292398Z",
     "iopub.status.busy": "2023-02-16T11:06:50.292Z",
     "iopub.status.idle": "2023-02-16T11:06:56.830927Z",
     "shell.execute_reply": "2023-02-16T11:06:56.82985Z",
     "shell.execute_reply.started": "2023-02-16T11:06:50.292364Z"
    }
   },
   "outputs": [
    {
     "data": {
      "text/plain": [
       "C1286084959    113\n",
       "C985934102     109\n",
       "C665576141     105\n",
       "C2083562754    102\n",
       "C248609774     101\n",
       "              ... \n",
       "M1470027725      1\n",
       "M1330329251      1\n",
       "M1784358659      1\n",
       "M2081431099      1\n",
       "C2080388513      1\n",
       "Name: nameDest, Length: 2722362, dtype: int64"
      ]
     },
     "execution_count": 9,
     "metadata": {},
     "output_type": "execute_result"
    }
   ],
   "source": [
    "data.nameDest.value_counts()"
   ]
  },
  {
   "cell_type": "code",
   "execution_count": 10,
   "metadata": {
    "execution": {
     "iopub.execute_input": "2023-02-16T11:06:56.835082Z",
     "iopub.status.busy": "2023-02-16T11:06:56.834079Z",
     "iopub.status.idle": "2023-02-16T11:06:57.247267Z",
     "shell.execute_reply": "2023-02-16T11:06:57.246044Z",
     "shell.execute_reply.started": "2023-02-16T11:06:56.835036Z"
    }
   },
   "outputs": [
    {
     "data": {
      "text/plain": [
       "CASH_OUT    2237500\n",
       "PAYMENT     2151495\n",
       "CASH_IN     1399284\n",
       "TRANSFER     532909\n",
       "DEBIT         41432\n",
       "Name: type, dtype: int64"
      ]
     },
     "execution_count": 10,
     "metadata": {},
     "output_type": "execute_result"
    }
   ],
   "source": [
    "data.type.value_counts()"
   ]
  },
  {
   "cell_type": "code",
   "execution_count": 11,
   "metadata": {
    "execution": {
     "iopub.execute_input": "2023-02-16T11:06:57.25274Z",
     "iopub.status.busy": "2023-02-16T11:06:57.252404Z",
     "iopub.status.idle": "2023-02-16T11:06:57.315211Z",
     "shell.execute_reply": "2023-02-16T11:06:57.313872Z",
     "shell.execute_reply.started": "2023-02-16T11:06:57.252711Z"
    }
   },
   "outputs": [
    {
     "data": {
      "text/plain": [
       "0    6362604\n",
       "1         16\n",
       "Name: isFlaggedFraud, dtype: int64"
      ]
     },
     "execution_count": 11,
     "metadata": {},
     "output_type": "execute_result"
    }
   ],
   "source": [
    "data.isFlaggedFraud.value_counts()"
   ]
  },
  {
   "cell_type": "code",
   "execution_count": 12,
   "metadata": {
    "execution": {
     "iopub.execute_input": "2023-02-16T11:06:57.316931Z",
     "iopub.status.busy": "2023-02-16T11:06:57.316579Z",
     "iopub.status.idle": "2023-02-16T11:06:57.383763Z",
     "shell.execute_reply": "2023-02-16T11:06:57.38252Z",
     "shell.execute_reply.started": "2023-02-16T11:06:57.3169Z"
    }
   },
   "outputs": [
    {
     "data": {
      "text/plain": [
       "0    6354407\n",
       "1       8213\n",
       "Name: isFraud, dtype: int64"
      ]
     },
     "execution_count": 12,
     "metadata": {},
     "output_type": "execute_result"
    }
   ],
   "source": [
    "data.isFraud.value_counts()"
   ]
  },
  {
   "cell_type": "markdown",
   "metadata": {},
   "source": [
    "# Exploratory Analysis and Visualization\n",
    "\n",
    "# Univariate Analysis\n",
    "Univariate analysis is used to analyze the data of single variable. Here we will analyze using histplot"
   ]
  },
  {
   "cell_type": "code",
   "execution_count": 13,
   "metadata": {
    "execution": {
     "iopub.execute_input": "2023-02-16T11:06:57.385507Z",
     "iopub.status.busy": "2023-02-16T11:06:57.385081Z",
     "iopub.status.idle": "2023-02-16T11:06:57.474047Z",
     "shell.execute_reply": "2023-02-16T11:06:57.472788Z",
     "shell.execute_reply.started": "2023-02-16T11:06:57.385476Z"
    }
   },
   "outputs": [],
   "source": [
    "import matplotlib.pyplot as plt\n",
    "import seaborn as sns\n",
    "%matplotlib inline"
   ]
  },
  {
   "cell_type": "code",
   "execution_count": 14,
   "metadata": {
    "execution": {
     "iopub.execute_input": "2023-02-16T11:06:57.476384Z",
     "iopub.status.busy": "2023-02-16T11:06:57.475918Z",
     "iopub.status.idle": "2023-02-16T11:06:57.485823Z",
     "shell.execute_reply": "2023-02-16T11:06:57.48473Z",
     "shell.execute_reply.started": "2023-02-16T11:06:57.47635Z"
    }
   },
   "outputs": [],
   "source": [
    "feature=['step','amount','oldbalanceOrg','newbalanceOrig','oldbalanceDest','newbalanceDest']"
   ]
  },
  {
   "cell_type": "code",
   "execution_count": 15,
   "metadata": {
    "execution": {
     "iopub.execute_input": "2023-02-16T11:06:57.487957Z",
     "iopub.status.busy": "2023-02-16T11:06:57.487543Z",
     "iopub.status.idle": "2023-02-16T11:07:03.713295Z",
     "shell.execute_reply": "2023-02-16T11:07:03.711996Z",
     "shell.execute_reply.started": "2023-02-16T11:06:57.487925Z"
    }
   },
   "outputs": [
    {
     "data": {
      "image/png": "[encoded data removed]",
      "text/plain": [
       "<Figure size 1200x600 with 1 Axes>"
      ]
     },
     "metadata": {},
     "output_type": "display_data"
    },
    {
     "data": {
      "image/png": "[encoded data removed]",
      "text/plain": [
       "<Figure size 1200x600 with 1 Axes>"
      ]
     },
     "metadata": {},
     "output_type": "display_data"
    },
    {
     "data": {
      "image/png": "[encoded data removed]",
      "text/plain": [
       "<Figure size 1200x600 with 1 Axes>"
      ]
     },
     "metadata": {},
     "output_type": "display_data"
    },
    {
     "data": {
      "image/png": "[encoded data removed]",
      "text/plain": [
       "<Figure size 1200x600 with 1 Axes>"
      ]
     },
     "metadata": {},
     "output_type": "display_data"
    },
    {
     "data": {
      "image/png": "[encoded data removed]",
      "text/plain": [
       "<Figure size 1200x600 with 1 Axes>"
      ]
     },
     "metadata": {},
     "output_type": "display_data"
    },
    {
     "data": {
      "image/png": "[encoded data removed]",
      "text/plain": [
       "<Figure size 1200x600 with 1 Axes>"
      ]
     },
     "metadata": {},
     "output_type": "display_data"
    }
   ],
   "source": [
    "for i in feature:\n",
    "    plt.xlabel(i)\n",
    "    data[i].plot(kind='hist', bins=5, figsize=(12,6), facecolor='green',edgecolor='black')\n",
    "    plt.show()"
   ]
  },
  {
   "cell_type": "markdown",
   "metadata": {},
   "source": [
    "We could see some outliers in the plots. So let's work on it.\n",
    "\n",
    "We'll use Quantile-based Flooring and Capping for these columns.\n",
    "\n",
    "**Capping** is replacing all higher side values exceeding a certain theoretical maximum or upper control limit (UCL) by the UCL value. Here we'll do 90th percentile for higher values.\n",
    "\n",
    "**Flooring** is replacing all values falling below a certain theoretical minimum or lower control limit (UCL) by the LCL value. Here we'll do 90th percentile for higher values."
   ]
  },
  {
   "cell_type": "code",
   "execution_count": 16,
   "metadata": {
    "execution": {
     "iopub.execute_input": "2023-02-16T11:07:03.715158Z",
     "iopub.status.busy": "2023-02-16T11:07:03.714784Z",
     "iopub.status.idle": "2023-02-16T11:07:03.721428Z",
     "shell.execute_reply": "2023-02-16T11:07:03.72018Z",
     "shell.execute_reply.started": "2023-02-16T11:07:03.715119Z"
    }
   },
   "outputs": [],
   "source": [
    "feature=['amount','oldbalanceOrg','newbalanceOrig','oldbalanceDest','newbalanceDest']"
   ]
  },
  {
   "cell_type": "code",
   "execution_count": 17,
   "metadata": {
    "execution": {
     "iopub.execute_input": "2023-02-16T11:07:03.723858Z",
     "iopub.status.busy": "2023-02-16T11:07:03.723409Z",
     "iopub.status.idle": "2023-02-16T11:07:04.485477Z",
     "shell.execute_reply": "2023-02-16T11:07:04.484154Z",
     "shell.execute_reply.started": "2023-02-16T11:07:03.723815Z"
    }
   },
   "outputs": [
    {
     "name": "stdout",
     "output_type": "stream",
     "text": [
      "amount\n",
      "4501.3\n",
      "365423.30900000007\n",
      "\n",
      "\n",
      "oldbalanceOrg\n",
      "0.0\n",
      "1822508.289000007\n",
      "\n",
      "\n",
      "newbalanceOrig\n",
      "0.0\n",
      "1970344.7930000005\n",
      "\n",
      "\n",
      "oldbalanceDest\n",
      "0.0\n",
      "2914266.6690000016\n",
      "\n",
      "\n",
      "newbalanceDest\n",
      "0.0\n",
      "3194869.671000002\n",
      "\n",
      "\n"
     ]
    }
   ],
   "source": [
    "for i in feature:\n",
    "    print(i)\n",
    "    print(data[i].quantile(0.10))\n",
    "    print(data[i].quantile(0.90))\n",
    "\n",
    "    print('\\n')"
   ]
  },
  {
   "cell_type": "markdown",
   "metadata": {},
   "source": [
    "Now we'll remove the outlier."
   ]
  },
  {
   "cell_type": "code",
   "execution_count": 18,
   "metadata": {
    "execution": {
     "iopub.execute_input": "2023-02-16T11:07:04.488944Z",
     "iopub.status.busy": "2023-02-16T11:07:04.488443Z",
     "iopub.status.idle": "2023-02-16T11:07:04.494356Z",
     "shell.execute_reply": "2023-02-16T11:07:04.493132Z",
     "shell.execute_reply.started": "2023-02-16T11:07:04.488882Z"
    }
   },
   "outputs": [],
   "source": [
    "feature=['amount','oldbalanceOrg','newbalanceOrig','oldbalanceDest','newbalanceDest']\n"
   ]
  },
  {
   "cell_type": "code",
   "execution_count": 19,
   "metadata": {
    "execution": {
     "iopub.execute_input": "2023-02-16T11:07:04.496811Z",
     "iopub.status.busy": "2023-02-16T11:07:04.496193Z",
     "iopub.status.idle": "2023-02-16T11:07:06.116358Z",
     "shell.execute_reply": "2023-02-16T11:07:06.115345Z",
     "shell.execute_reply.started": "2023-02-16T11:07:04.496763Z"
    }
   },
   "outputs": [
    {
     "name": "stdout",
     "output_type": "stream",
     "text": [
      "Feature:  amount\n",
      "Skewness value:  0.8046460444556197\n",
      "\n",
      "\n",
      "Feature:  oldbalanceOrg\n",
      "Skewness value:  2.249361299814406\n",
      "\n",
      "\n",
      "Feature:  newbalanceOrig\n",
      "Skewness value:  2.2262847493216786\n",
      "\n",
      "\n",
      "Feature:  oldbalanceDest\n",
      "Skewness value:  1.4173123924260833\n",
      "\n",
      "\n",
      "Feature:  newbalanceDest\n",
      "Skewness value:  1.3593024983493058\n",
      "\n",
      "\n"
     ]
    }
   ],
   "source": [
    "for i in feature:\n",
    "    lower = data[i].quantile(0.10)\n",
    "    upper = data[i].quantile(0.90)\n",
    "    data[i] = np.where(data[i] <lower, lower,data[i])\n",
    "    data[i] = np.where(data[i] >upper, upper,data[i])\n",
    "    print('Feature: ',i)\n",
    "    print('Skewness value: ',data[i].skew())\n",
    "    print('\\n')"
   ]
  },
  {
   "cell_type": "markdown",
   "metadata": {},
   "source": [
    "Now we'll take a look at it after removing outliers."
   ]
  },
  {
   "cell_type": "code",
   "execution_count": 20,
   "metadata": {
    "execution": {
     "iopub.execute_input": "2023-02-16T11:07:06.117854Z",
     "iopub.status.busy": "2023-02-16T11:07:06.117541Z",
     "iopub.status.idle": "2023-02-16T11:07:06.122478Z",
     "shell.execute_reply": "2023-02-16T11:07:06.121704Z",
     "shell.execute_reply.started": "2023-02-16T11:07:06.117826Z"
    }
   },
   "outputs": [],
   "source": [
    "feature=['amount','oldbalanceOrg','newbalanceOrig','oldbalanceDest','newbalanceDest']"
   ]
  },
  {
   "cell_type": "code",
   "execution_count": 21,
   "metadata": {
    "execution": {
     "iopub.execute_input": "2023-02-16T11:07:06.124332Z",
     "iopub.status.busy": "2023-02-16T11:07:06.123667Z",
     "iopub.status.idle": "2023-02-16T11:07:11.689209Z",
     "shell.execute_reply": "2023-02-16T11:07:11.688021Z",
     "shell.execute_reply.started": "2023-02-16T11:07:06.1243Z"
    }
   },
   "outputs": [
    {
     "data": {
      "image/png": "[encoded data removed]",
      "text/plain": [
       "<Figure size 1200x600 with 1 Axes>"
      ]
     },
     "metadata": {},
     "output_type": "display_data"
    },
    {
     "data": {
      "image/png": "[encoded data removed]",
      "text/plain": [
       "<Figure size 1200x600 with 1 Axes>"
      ]
     },
     "metadata": {},
     "output_type": "display_data"
    },
    {
     "data": {
      "image/png": "[encoded data removed]",
      "text/plain": [
       "<Figure size 1200x600 with 1 Axes>"
      ]
     },
     "metadata": {},
     "output_type": "display_data"
    },
    {
     "data": {
      "image/png": "[encoded data removed]",
      "text/plain": [
       "<Figure size 1200x600 with 1 Axes>"
      ]
     },
     "metadata": {},
     "output_type": "display_data"
    },
    {
     "data": {
      "image/png": "[encoded data removed]",
      "text/plain": [
       "<Figure size 1200x600 with 1 Axes>"
      ]
     },
     "metadata": {},
     "output_type": "display_data"
    }
   ],
   "source": [
    "for i in feature:\n",
    "    plt.xlabel(i)\n",
    "    data[i].plot(kind='hist', bins=5, figsize=(12,6), facecolor='red',edgecolor='black')\n",
    "    plt.show()"
   ]
  },
  {
   "cell_type": "markdown",
   "metadata": {},
   "source": [
    "After outlier treatment\n",
    "* We have a maximum set of distribution between 150 to 400 of step\n",
    "* Amount ranges between 0-35 lakhs with more values ranging between 0-75,000\n",
    "* OldbalanceOrg ranges around 0-18 lakh with more frequency around 0-375,000\n",
    "* NewbalanceOrig ranges around 0-19 lakh with more frequency around 0-375,000\n",
    "* OldbalanceDest ranges around 0-29 lakh with common values around 0-625,000\n",
    "* NewbalanceDest ranges around 0-35 lakh with common values around 0-625,000"
   ]
  },
  {
   "cell_type": "markdown",
   "metadata": {},
   "source": [
    "**1. Let's take a closer look at 'type' column.**"
   ]
  },
  {
   "cell_type": "code",
   "execution_count": 22,
   "metadata": {
    "execution": {
     "iopub.execute_input": "2023-02-16T11:07:11.690719Z",
     "iopub.status.busy": "2023-02-16T11:07:11.690423Z",
     "iopub.status.idle": "2023-02-16T11:07:12.160973Z",
     "shell.execute_reply": "2023-02-16T11:07:12.159908Z",
     "shell.execute_reply.started": "2023-02-16T11:07:11.690691Z"
    }
   },
   "outputs": [
    {
     "data": {
      "text/plain": [
       "array(['PAYMENT', 'TRANSFER', 'CASH_OUT', 'DEBIT', 'CASH_IN'],\n",
       "      dtype=object)"
      ]
     },
     "execution_count": 22,
     "metadata": {},
     "output_type": "execute_result"
    }
   ],
   "source": [
    "data.type.unique()"
   ]
  },
  {
   "cell_type": "code",
   "execution_count": 23,
   "metadata": {
    "execution": {
     "iopub.execute_input": "2023-02-16T11:07:12.162844Z",
     "iopub.status.busy": "2023-02-16T11:07:12.162533Z",
     "iopub.status.idle": "2023-02-16T11:07:12.57856Z",
     "shell.execute_reply": "2023-02-16T11:07:12.577698Z",
     "shell.execute_reply.started": "2023-02-16T11:07:12.162816Z"
    }
   },
   "outputs": [
    {
     "data": {
      "text/plain": [
       "CASH_OUT    2237500\n",
       "PAYMENT     2151495\n",
       "CASH_IN     1399284\n",
       "TRANSFER     532909\n",
       "DEBIT         41432\n",
       "Name: type, dtype: int64"
      ]
     },
     "execution_count": 23,
     "metadata": {},
     "output_type": "execute_result"
    }
   ],
   "source": [
    "payment = data.type.value_counts()\n",
    "payment"
   ]
  },
  {
   "cell_type": "markdown",
   "metadata": {},
   "source": [
    "* As we have already seen there are 5 types of payment happened. \n",
    "* More money has been transacted mostly through cash out followed by payment type.\n",
    "\n",
    "Let's plot it using horizontal bar"
   ]
  },
  {
   "cell_type": "code",
   "execution_count": 24,
   "metadata": {
    "execution": {
     "iopub.execute_input": "2023-02-16T11:07:12.580615Z",
     "iopub.status.busy": "2023-02-16T11:07:12.580003Z",
     "iopub.status.idle": "2023-02-16T11:07:12.794186Z",
     "shell.execute_reply": "2023-02-16T11:07:12.793139Z",
     "shell.execute_reply.started": "2023-02-16T11:07:12.580581Z"
    }
   },
   "outputs": [
    {
     "data": {
      "text/plain": [
       "<Axes: >"
      ]
     },
     "execution_count": 24,
     "metadata": {},
     "output_type": "execute_result"
    },
    {
     "data": {
      "image/png": "[encoded data removed]",
      "text/plain": [
       "<Figure size 640x480 with 1 Axes>"
      ]
     },
     "metadata": {},
     "output_type": "display_data"
    }
   ],
   "source": [
    "payment.plot(kind='barh')"
   ]
  },
  {
   "cell_type": "code",
   "execution_count": 25,
   "metadata": {
    "execution": {
     "iopub.execute_input": "2023-02-16T11:07:12.796846Z",
     "iopub.status.busy": "2023-02-16T11:07:12.795975Z",
     "iopub.status.idle": "2023-02-16T11:07:16.667601Z",
     "shell.execute_reply": "2023-02-16T11:07:16.666373Z",
     "shell.execute_reply.started": "2023-02-16T11:07:12.796788Z"
    }
   },
   "outputs": [
    {
     "data": {
      "text/plain": [
       "<Axes: xlabel='type', ylabel='count'>"
      ]
     },
     "execution_count": 25,
     "metadata": {},
     "output_type": "execute_result"
    },
    {
     "data": {
      "image/png": "[encoded data removed]",
      "text/plain": [
       "<Figure size 640x480 with 1 Axes>"
      ]
     },
     "metadata": {},
     "output_type": "display_data"
    }
   ],
   "source": [
    "sns.countplot(x='type', data=data)"
   ]
  },
  {
   "cell_type": "markdown",
   "metadata": {},
   "source": [
    "**Let's look at the relationship with type column with isfraud column**"
   ]
  },
  {
   "cell_type": "code",
   "execution_count": 26,
   "metadata": {
    "execution": {
     "iopub.execute_input": "2023-02-16T11:07:16.669988Z",
     "iopub.status.busy": "2023-02-16T11:07:16.669114Z",
     "iopub.status.idle": "2023-02-16T11:07:17.965042Z",
     "shell.execute_reply": "2023-02-16T11:07:17.963821Z",
     "shell.execute_reply.started": "2023-02-16T11:07:16.669954Z"
    }
   },
   "outputs": [
    {
     "data": {
      "text/html": [
       "<div>\n",
       "<style scoped>\n",
       "    .dataframe tbody tr th:only-of-type {\n",
       "        vertical-align: middle;\n",
       "    }\n",
       "\n",
       "    .dataframe tbody tr th {\n",
       "        vertical-align: top;\n",
       "    }\n",
       "\n",
       "    .dataframe thead th {\n",
       "        text-align: right;\n",
       "    }\n",
       "</style>\n",
       "<table border=\"1\" class=\"dataframe\">\n",
       "  <thead>\n",
       "    <tr style=\"text-align: right;\">\n",
       "      <th>isFraud</th>\n",
       "      <th>0</th>\n",
       "      <th>1</th>\n",
       "    </tr>\n",
       "    <tr>\n",
       "      <th>type</th>\n",
       "      <th></th>\n",
       "      <th></th>\n",
       "    </tr>\n",
       "  </thead>\n",
       "  <tbody>\n",
       "    <tr>\n",
       "      <th>CASH_IN</th>\n",
       "      <td>1399284</td>\n",
       "      <td>0</td>\n",
       "    </tr>\n",
       "    <tr>\n",
       "      <th>CASH_OUT</th>\n",
       "      <td>2233384</td>\n",
       "      <td>4116</td>\n",
       "    </tr>\n",
       "    <tr>\n",
       "      <th>DEBIT</th>\n",
       "      <td>41432</td>\n",
       "      <td>0</td>\n",
       "    </tr>\n",
       "    <tr>\n",
       "      <th>PAYMENT</th>\n",
       "      <td>2151495</td>\n",
       "      <td>0</td>\n",
       "    </tr>\n",
       "    <tr>\n",
       "      <th>TRANSFER</th>\n",
       "      <td>528812</td>\n",
       "      <td>4097</td>\n",
       "    </tr>\n",
       "  </tbody>\n",
       "</table>\n",
       "</div>"
      ],
      "text/plain": [
       "isFraud         0     1\n",
       "type                   \n",
       "CASH_IN   1399284     0\n",
       "CASH_OUT  2233384  4116\n",
       "DEBIT       41432     0\n",
       "PAYMENT   2151495     0\n",
       "TRANSFER   528812  4097"
      ]
     },
     "execution_count": 26,
     "metadata": {},
     "output_type": "execute_result"
    }
   ],
   "source": [
    "cross_tab_result=pd.crosstab(index=data.type,columns=data.isFraud)\n",
    "cross_tab_result"
   ]
  },
  {
   "cell_type": "code",
   "execution_count": 27,
   "metadata": {
    "execution": {
     "iopub.execute_input": "2023-02-16T11:07:17.96655Z",
     "iopub.status.busy": "2023-02-16T11:07:17.966251Z",
     "iopub.status.idle": "2023-02-16T11:07:17.974882Z",
     "shell.execute_reply": "2023-02-16T11:07:17.973809Z",
     "shell.execute_reply.started": "2023-02-16T11:07:17.966522Z"
    }
   },
   "outputs": [
    {
     "data": {
      "text/plain": [
       "type\n",
       "CASH_IN        0\n",
       "CASH_OUT    4116\n",
       "DEBIT          0\n",
       "PAYMENT        0\n",
       "TRANSFER    4097\n",
       "Name: 1, dtype: int64"
      ]
     },
     "execution_count": 27,
     "metadata": {},
     "output_type": "execute_result"
    }
   ],
   "source": [
    "cross_tab_result[1]"
   ]
  },
  {
   "cell_type": "markdown",
   "metadata": {},
   "source": [
    "We can see that fraud occurred mostly while during transfer or cashout"
   ]
  },
  {
   "cell_type": "code",
   "execution_count": 28,
   "metadata": {
    "execution": {
     "iopub.execute_input": "2023-02-16T11:07:17.976674Z",
     "iopub.status.busy": "2023-02-16T11:07:17.976264Z",
     "iopub.status.idle": "2023-02-16T11:07:18.238143Z",
     "shell.execute_reply": "2023-02-16T11:07:18.23712Z",
     "shell.execute_reply.started": "2023-02-16T11:07:17.976643Z"
    }
   },
   "outputs": [
    {
     "data": {
      "text/plain": [
       "<Axes: xlabel='type'>"
      ]
     },
     "execution_count": 28,
     "metadata": {},
     "output_type": "execute_result"
    },
    {
     "data": {
      "image/png": "[encoded data removed]",
      "text/plain": [
       "<Figure size 700x400 with 1 Axes>"
      ]
     },
     "metadata": {},
     "output_type": "display_data"
    }
   ],
   "source": [
    "cross_tab_result.plot.bar(figsize=(7,4), rot=0)"
   ]
  },
  {
   "cell_type": "code",
   "execution_count": 29,
   "metadata": {
    "execution": {
     "iopub.execute_input": "2023-02-16T11:07:18.246121Z",
     "iopub.status.busy": "2023-02-16T11:07:18.245713Z",
     "iopub.status.idle": "2023-02-16T11:07:18.436157Z",
     "shell.execute_reply": "2023-02-16T11:07:18.434946Z",
     "shell.execute_reply.started": "2023-02-16T11:07:18.246073Z"
    }
   },
   "outputs": [
    {
     "data": {
      "text/plain": [
       "<Axes: xlabel='type'>"
      ]
     },
     "execution_count": 29,
     "metadata": {},
     "output_type": "execute_result"
    },
    {
     "data": {
      "image/png": "[encoded data removed]",
      "text/plain": [
       "<Figure size 700x400 with 1 Axes>"
      ]
     },
     "metadata": {},
     "output_type": "display_data"
    }
   ],
   "source": [
    "cross_tab_result[1].plot.bar(figsize=(7,4), rot=0)"
   ]
  },
  {
   "cell_type": "code",
   "execution_count": 30,
   "metadata": {
    "execution": {
     "iopub.execute_input": "2023-02-16T11:07:18.438063Z",
     "iopub.status.busy": "2023-02-16T11:07:18.437634Z",
     "iopub.status.idle": "2023-02-16T11:07:18.703663Z",
     "shell.execute_reply": "2023-02-16T11:07:18.702446Z",
     "shell.execute_reply.started": "2023-02-16T11:07:18.438026Z"
    }
   },
   "outputs": [
    {
     "data": {
      "text/plain": [
       "(3500.0, 7000.0)"
      ]
     },
     "execution_count": 30,
     "metadata": {},
     "output_type": "execute_result"
    },
    {
     "data": {
      "image/png": "[encoded data removed]",
      "text/plain": [
       "<Figure size 700x400 with 1 Axes>"
      ]
     },
     "metadata": {},
     "output_type": "display_data"
    }
   ],
   "source": [
    "cross_tab_result.plot.bar(figsize=(7,4), rot=0)\n",
    "plt.ylim([3500, 7000])"
   ]
  },
  {
   "cell_type": "code",
   "execution_count": 31,
   "metadata": {
    "execution": {
     "iopub.execute_input": "2023-02-16T11:07:18.705898Z",
     "iopub.status.busy": "2023-02-16T11:07:18.705381Z",
     "iopub.status.idle": "2023-02-16T11:07:18.716793Z",
     "shell.execute_reply": "2023-02-16T11:07:18.715879Z",
     "shell.execute_reply.started": "2023-02-16T11:07:18.705862Z"
    }
   },
   "outputs": [
    {
     "data": {
      "text/html": [
       "<div>\n",
       "<style scoped>\n",
       "    .dataframe tbody tr th:only-of-type {\n",
       "        vertical-align: middle;\n",
       "    }\n",
       "\n",
       "    .dataframe tbody tr th {\n",
       "        vertical-align: top;\n",
       "    }\n",
       "\n",
       "    .dataframe thead th {\n",
       "        text-align: right;\n",
       "    }\n",
       "</style>\n",
       "<table border=\"1\" class=\"dataframe\">\n",
       "  <thead>\n",
       "    <tr style=\"text-align: right;\">\n",
       "      <th>isFraud</th>\n",
       "      <th>0</th>\n",
       "      <th>1</th>\n",
       "    </tr>\n",
       "    <tr>\n",
       "      <th>type</th>\n",
       "      <th></th>\n",
       "      <th></th>\n",
       "    </tr>\n",
       "  </thead>\n",
       "  <tbody>\n",
       "    <tr>\n",
       "      <th>CASH_IN</th>\n",
       "      <td>1399284</td>\n",
       "      <td>0</td>\n",
       "    </tr>\n",
       "    <tr>\n",
       "      <th>CASH_OUT</th>\n",
       "      <td>2233384</td>\n",
       "      <td>4116</td>\n",
       "    </tr>\n",
       "    <tr>\n",
       "      <th>DEBIT</th>\n",
       "      <td>41432</td>\n",
       "      <td>0</td>\n",
       "    </tr>\n",
       "    <tr>\n",
       "      <th>PAYMENT</th>\n",
       "      <td>2151495</td>\n",
       "      <td>0</td>\n",
       "    </tr>\n",
       "    <tr>\n",
       "      <th>TRANSFER</th>\n",
       "      <td>528812</td>\n",
       "      <td>4097</td>\n",
       "    </tr>\n",
       "  </tbody>\n",
       "</table>\n",
       "</div>"
      ],
      "text/plain": [
       "isFraud         0     1\n",
       "type                   \n",
       "CASH_IN   1399284     0\n",
       "CASH_OUT  2233384  4116\n",
       "DEBIT       41432     0\n",
       "PAYMENT   2151495     0\n",
       "TRANSFER   528812  4097"
      ]
     },
     "execution_count": 31,
     "metadata": {},
     "output_type": "execute_result"
    }
   ],
   "source": [
    "cross_tab_result"
   ]
  },
  {
   "cell_type": "code",
   "execution_count": 32,
   "metadata": {
    "execution": {
     "iopub.execute_input": "2023-02-16T11:07:18.718911Z",
     "iopub.status.busy": "2023-02-16T11:07:18.718308Z",
     "iopub.status.idle": "2023-02-16T11:07:18.729917Z",
     "shell.execute_reply": "2023-02-16T11:07:18.728798Z",
     "shell.execute_reply.started": "2023-02-16T11:07:18.718877Z"
    }
   },
   "outputs": [
    {
     "data": {
      "text/plain": [
       "0.18395530726256984"
      ]
     },
     "execution_count": 32,
     "metadata": {},
     "output_type": "execute_result"
    }
   ],
   "source": [
    "cashout= (2233384 + 4116)\n",
    "cashout_fraud= 4116/(cashout) * 100\n",
    "cashout_fraud"
   ]
  },
  {
   "cell_type": "markdown",
   "metadata": {},
   "source": [
    "0.184 % denotes the percentage of fraud happened in total cashout mode type, which is very less%"
   ]
  },
  {
   "cell_type": "code",
   "execution_count": 33,
   "metadata": {
    "execution": {
     "iopub.execute_input": "2023-02-16T11:07:18.734846Z",
     "iopub.status.busy": "2023-02-16T11:07:18.73426Z",
     "iopub.status.idle": "2023-02-16T11:07:18.743678Z",
     "shell.execute_reply": "2023-02-16T11:07:18.742584Z",
     "shell.execute_reply.started": "2023-02-16T11:07:18.734801Z"
    }
   },
   "outputs": [
    {
     "data": {
      "text/plain": [
       "0.7687991758442811"
      ]
     },
     "execution_count": 33,
     "metadata": {},
     "output_type": "execute_result"
    }
   ],
   "source": [
    "transfer= 528812+4097\n",
    "transfer_fraud = 4097/(transfer) * 100\n",
    "transfer_fraud"
   ]
  },
  {
   "cell_type": "markdown",
   "metadata": {},
   "source": [
    "0.769 % denotes the percentage of fraud happened in total tranfer mode type, which is very also less%"
   ]
  },
  {
   "cell_type": "markdown",
   "metadata": {},
   "source": [
    "**2. Let's take a closer look at amount column**"
   ]
  },
  {
   "cell_type": "code",
   "execution_count": 34,
   "metadata": {
    "execution": {
     "iopub.execute_input": "2023-02-16T11:07:18.745858Z",
     "iopub.status.busy": "2023-02-16T11:07:18.745432Z",
     "iopub.status.idle": "2023-02-16T11:07:18.766154Z",
     "shell.execute_reply": "2023-02-16T11:07:18.764707Z",
     "shell.execute_reply.started": "2023-02-16T11:07:18.745811Z"
    }
   },
   "outputs": [
    {
     "data": {
      "text/plain": [
       "0            9839.640\n",
       "1            4501.300\n",
       "2            4501.300\n",
       "3            4501.300\n",
       "4           11668.140\n",
       "              ...    \n",
       "6362615    339682.130\n",
       "6362616    365423.309\n",
       "6362617    365423.309\n",
       "6362618    365423.309\n",
       "6362619    365423.309\n",
       "Name: amount, Length: 6362620, dtype: float64"
      ]
     },
     "execution_count": 34,
     "metadata": {},
     "output_type": "execute_result"
    }
   ],
   "source": [
    "data.amount"
   ]
  },
  {
   "cell_type": "markdown",
   "metadata": {},
   "source": [
    "Let's check the minimum and maximum range amount."
   ]
  },
  {
   "cell_type": "code",
   "execution_count": 35,
   "metadata": {
    "execution": {
     "iopub.execute_input": "2023-02-16T11:07:18.76915Z",
     "iopub.status.busy": "2023-02-16T11:07:18.767911Z",
     "iopub.status.idle": "2023-02-16T11:07:18.814236Z",
     "shell.execute_reply": "2023-02-16T11:07:18.812929Z",
     "shell.execute_reply.started": "2023-02-16T11:07:18.769085Z"
    }
   },
   "outputs": [
    {
     "name": "stdout",
     "output_type": "stream",
     "text": [
      "Minimum:  4501.3\n",
      "Maximum:  365423.30900000007\n"
     ]
    }
   ],
   "source": [
    "print('Minimum: ',data.amount.min())\n",
    "print('Maximum: ',data.amount.max())"
   ]
  },
  {
   "cell_type": "code",
   "execution_count": 36,
   "metadata": {
    "execution": {
     "iopub.execute_input": "2023-02-16T11:07:18.817008Z",
     "iopub.status.busy": "2023-02-16T11:07:18.815966Z",
     "iopub.status.idle": "2023-02-16T11:07:38.151936Z",
     "shell.execute_reply": "2023-02-16T11:07:38.150703Z",
     "shell.execute_reply.started": "2023-02-16T11:07:18.816962Z"
    }
   },
   "outputs": [
    {
     "data": {
      "text/plain": [
       "<Axes: ylabel='amount'>"
      ]
     },
     "execution_count": 36,
     "metadata": {},
     "output_type": "execute_result"
    },
    {
     "data": {
      "image/png": "[encoded data removed]",
      "text/plain": [
       "<Figure size 1000x1000 with 1 Axes>"
      ]
     },
     "metadata": {},
     "output_type": "display_data"
    }
   ],
   "source": [
    "plt.figure(figsize=(10,10))\n",
    "sns.stripplot(y=data.amount)"
   ]
  },
  {
   "cell_type": "markdown",
   "metadata": {},
   "source": [
    "**Let's check the relationship of amount column with isFraud column**"
   ]
  },
  {
   "cell_type": "code",
   "execution_count": 37,
   "metadata": {
    "execution": {
     "iopub.execute_input": "2023-02-16T11:07:38.154048Z",
     "iopub.status.busy": "2023-02-16T11:07:38.153652Z",
     "iopub.status.idle": "2023-02-16T11:07:49.888467Z",
     "shell.execute_reply": "2023-02-16T11:07:49.88729Z",
     "shell.execute_reply.started": "2023-02-16T11:07:38.154017Z"
    }
   },
   "outputs": [
    {
     "data": {
      "text/plain": [
       "<Axes: title={'center': 'amount'}, xlabel='isFraud'>"
      ]
     },
     "execution_count": 37,
     "metadata": {},
     "output_type": "execute_result"
    },
    {
     "data": {
      "image/png": "[encoded data removed]",
      "text/plain": [
       "<Figure size 640x480 with 1 Axes>"
      ]
     },
     "metadata": {},
     "output_type": "display_data"
    }
   ],
   "source": [
    "data.boxplot(column='amount', by='isFraud')"
   ]
  },
  {
   "cell_type": "markdown",
   "metadata": {},
   "source": [
    "Fraud amount transaction range is between 1.3-3.6 lakh"
   ]
  },
  {
   "cell_type": "markdown",
   "metadata": {},
   "source": [
    "**3. Let's take a closer look at isFlaggedFraud column**"
   ]
  },
  {
   "cell_type": "code",
   "execution_count": 38,
   "metadata": {
    "execution": {
     "iopub.execute_input": "2023-02-16T11:07:49.890125Z",
     "iopub.status.busy": "2023-02-16T11:07:49.889776Z",
     "iopub.status.idle": "2023-02-16T11:07:49.954214Z",
     "shell.execute_reply": "2023-02-16T11:07:49.952836Z",
     "shell.execute_reply.started": "2023-02-16T11:07:49.890081Z"
    }
   },
   "outputs": [
    {
     "data": {
      "text/plain": [
       "0    6362604\n",
       "1         16\n",
       "Name: isFlaggedFraud, dtype: int64"
      ]
     },
     "execution_count": 38,
     "metadata": {},
     "output_type": "execute_result"
    }
   ],
   "source": [
    "data.isFlaggedFraud.value_counts()"
   ]
  },
  {
   "cell_type": "markdown",
   "metadata": {},
   "source": [
    "From the total of 63 lakh records only 16 were assumed and flagged as fraud, which is actually a very low number. The actual fraud happend has a very higher value when compared to isFlaggedFraud column."
   ]
  },
  {
   "cell_type": "markdown",
   "metadata": {},
   "source": [
    "**Now let's look at how many values they assumed and flagged as fraud is actually correct**"
   ]
  },
  {
   "cell_type": "code",
   "execution_count": 39,
   "metadata": {
    "execution": {
     "iopub.execute_input": "2023-02-16T11:07:49.958213Z",
     "iopub.status.busy": "2023-02-16T11:07:49.957831Z",
     "iopub.status.idle": "2023-02-16T11:07:50.079854Z",
     "shell.execute_reply": "2023-02-16T11:07:50.078903Z",
     "shell.execute_reply.started": "2023-02-16T11:07:49.958179Z"
    }
   },
   "outputs": [
    {
     "data": {
      "text/html": [
       "<div>\n",
       "<style scoped>\n",
       "    .dataframe tbody tr th:only-of-type {\n",
       "        vertical-align: middle;\n",
       "    }\n",
       "\n",
       "    .dataframe tbody tr th {\n",
       "        vertical-align: top;\n",
       "    }\n",
       "\n",
       "    .dataframe thead th {\n",
       "        text-align: right;\n",
       "    }\n",
       "</style>\n",
       "<table border=\"1\" class=\"dataframe\">\n",
       "  <thead>\n",
       "    <tr style=\"text-align: right;\">\n",
       "      <th></th>\n",
       "      <th>step</th>\n",
       "      <th>type</th>\n",
       "      <th>amount</th>\n",
       "      <th>nameOrig</th>\n",
       "      <th>oldbalanceOrg</th>\n",
       "      <th>newbalanceOrig</th>\n",
       "      <th>nameDest</th>\n",
       "      <th>oldbalanceDest</th>\n",
       "      <th>newbalanceDest</th>\n",
       "      <th>isFraud</th>\n",
       "      <th>isFlaggedFraud</th>\n",
       "    </tr>\n",
       "  </thead>\n",
       "  <tbody>\n",
       "    <tr>\n",
       "      <th>2736446</th>\n",
       "      <td>212</td>\n",
       "      <td>TRANSFER</td>\n",
       "      <td>365423.309</td>\n",
       "      <td>C728984460</td>\n",
       "      <td>1822508.289</td>\n",
       "      <td>1970344.793</td>\n",
       "      <td>C639921569</td>\n",
       "      <td>0.0</td>\n",
       "      <td>0.0</td>\n",
       "      <td>1</td>\n",
       "      <td>1</td>\n",
       "    </tr>\n",
       "    <tr>\n",
       "      <th>3247297</th>\n",
       "      <td>250</td>\n",
       "      <td>TRANSFER</td>\n",
       "      <td>365423.309</td>\n",
       "      <td>C1100582606</td>\n",
       "      <td>1343002.080</td>\n",
       "      <td>1343002.080</td>\n",
       "      <td>C1147517658</td>\n",
       "      <td>0.0</td>\n",
       "      <td>0.0</td>\n",
       "      <td>1</td>\n",
       "      <td>1</td>\n",
       "    </tr>\n",
       "    <tr>\n",
       "      <th>3760288</th>\n",
       "      <td>279</td>\n",
       "      <td>TRANSFER</td>\n",
       "      <td>365423.309</td>\n",
       "      <td>C1035541766</td>\n",
       "      <td>536624.410</td>\n",
       "      <td>536624.410</td>\n",
       "      <td>C1100697970</td>\n",
       "      <td>0.0</td>\n",
       "      <td>0.0</td>\n",
       "      <td>1</td>\n",
       "      <td>1</td>\n",
       "    </tr>\n",
       "    <tr>\n",
       "      <th>5563713</th>\n",
       "      <td>387</td>\n",
       "      <td>TRANSFER</td>\n",
       "      <td>365423.309</td>\n",
       "      <td>C908544136</td>\n",
       "      <td>1822508.289</td>\n",
       "      <td>1970344.793</td>\n",
       "      <td>C891140444</td>\n",
       "      <td>0.0</td>\n",
       "      <td>0.0</td>\n",
       "      <td>1</td>\n",
       "      <td>1</td>\n",
       "    </tr>\n",
       "    <tr>\n",
       "      <th>5996407</th>\n",
       "      <td>425</td>\n",
       "      <td>TRANSFER</td>\n",
       "      <td>365423.309</td>\n",
       "      <td>C689608084</td>\n",
       "      <td>1822508.289</td>\n",
       "      <td>1970344.793</td>\n",
       "      <td>C1392803603</td>\n",
       "      <td>0.0</td>\n",
       "      <td>0.0</td>\n",
       "      <td>1</td>\n",
       "      <td>1</td>\n",
       "    </tr>\n",
       "    <tr>\n",
       "      <th>5996409</th>\n",
       "      <td>425</td>\n",
       "      <td>TRANSFER</td>\n",
       "      <td>365423.309</td>\n",
       "      <td>C452586515</td>\n",
       "      <td>1822508.289</td>\n",
       "      <td>1970344.793</td>\n",
       "      <td>C1109166882</td>\n",
       "      <td>0.0</td>\n",
       "      <td>0.0</td>\n",
       "      <td>1</td>\n",
       "      <td>1</td>\n",
       "    </tr>\n",
       "    <tr>\n",
       "      <th>6168499</th>\n",
       "      <td>554</td>\n",
       "      <td>TRANSFER</td>\n",
       "      <td>365423.309</td>\n",
       "      <td>C193696150</td>\n",
       "      <td>1822508.289</td>\n",
       "      <td>1970344.793</td>\n",
       "      <td>C484597480</td>\n",
       "      <td>0.0</td>\n",
       "      <td>0.0</td>\n",
       "      <td>1</td>\n",
       "      <td>1</td>\n",
       "    </tr>\n",
       "    <tr>\n",
       "      <th>6205439</th>\n",
       "      <td>586</td>\n",
       "      <td>TRANSFER</td>\n",
       "      <td>353874.220</td>\n",
       "      <td>C1684585475</td>\n",
       "      <td>353874.220</td>\n",
       "      <td>353874.220</td>\n",
       "      <td>C1770418982</td>\n",
       "      <td>0.0</td>\n",
       "      <td>0.0</td>\n",
       "      <td>1</td>\n",
       "      <td>1</td>\n",
       "    </tr>\n",
       "    <tr>\n",
       "      <th>6266413</th>\n",
       "      <td>617</td>\n",
       "      <td>TRANSFER</td>\n",
       "      <td>365423.309</td>\n",
       "      <td>C786455622</td>\n",
       "      <td>1822508.289</td>\n",
       "      <td>1970344.793</td>\n",
       "      <td>C661958277</td>\n",
       "      <td>0.0</td>\n",
       "      <td>0.0</td>\n",
       "      <td>1</td>\n",
       "      <td>1</td>\n",
       "    </tr>\n",
       "    <tr>\n",
       "      <th>6281482</th>\n",
       "      <td>646</td>\n",
       "      <td>TRANSFER</td>\n",
       "      <td>365423.309</td>\n",
       "      <td>C19004745</td>\n",
       "      <td>1822508.289</td>\n",
       "      <td>1970344.793</td>\n",
       "      <td>C1806199534</td>\n",
       "      <td>0.0</td>\n",
       "      <td>0.0</td>\n",
       "      <td>1</td>\n",
       "      <td>1</td>\n",
       "    </tr>\n",
       "    <tr>\n",
       "      <th>6281484</th>\n",
       "      <td>646</td>\n",
       "      <td>TRANSFER</td>\n",
       "      <td>365423.309</td>\n",
       "      <td>C724693370</td>\n",
       "      <td>1822508.289</td>\n",
       "      <td>1970344.793</td>\n",
       "      <td>C1909486199</td>\n",
       "      <td>0.0</td>\n",
       "      <td>0.0</td>\n",
       "      <td>1</td>\n",
       "      <td>1</td>\n",
       "    </tr>\n",
       "    <tr>\n",
       "      <th>6296014</th>\n",
       "      <td>671</td>\n",
       "      <td>TRANSFER</td>\n",
       "      <td>365423.309</td>\n",
       "      <td>C917414431</td>\n",
       "      <td>1822508.289</td>\n",
       "      <td>1970344.793</td>\n",
       "      <td>C1082139865</td>\n",
       "      <td>0.0</td>\n",
       "      <td>0.0</td>\n",
       "      <td>1</td>\n",
       "      <td>1</td>\n",
       "    </tr>\n",
       "    <tr>\n",
       "      <th>6351225</th>\n",
       "      <td>702</td>\n",
       "      <td>TRANSFER</td>\n",
       "      <td>365423.309</td>\n",
       "      <td>C1892216157</td>\n",
       "      <td>1822508.289</td>\n",
       "      <td>1970344.793</td>\n",
       "      <td>C1308068787</td>\n",
       "      <td>0.0</td>\n",
       "      <td>0.0</td>\n",
       "      <td>1</td>\n",
       "      <td>1</td>\n",
       "    </tr>\n",
       "    <tr>\n",
       "      <th>6362460</th>\n",
       "      <td>730</td>\n",
       "      <td>TRANSFER</td>\n",
       "      <td>365423.309</td>\n",
       "      <td>C2140038573</td>\n",
       "      <td>1822508.289</td>\n",
       "      <td>1970344.793</td>\n",
       "      <td>C1395467927</td>\n",
       "      <td>0.0</td>\n",
       "      <td>0.0</td>\n",
       "      <td>1</td>\n",
       "      <td>1</td>\n",
       "    </tr>\n",
       "    <tr>\n",
       "      <th>6362462</th>\n",
       "      <td>730</td>\n",
       "      <td>TRANSFER</td>\n",
       "      <td>365423.309</td>\n",
       "      <td>C1869569059</td>\n",
       "      <td>1822508.289</td>\n",
       "      <td>1970344.793</td>\n",
       "      <td>C1861208726</td>\n",
       "      <td>0.0</td>\n",
       "      <td>0.0</td>\n",
       "      <td>1</td>\n",
       "      <td>1</td>\n",
       "    </tr>\n",
       "    <tr>\n",
       "      <th>6362584</th>\n",
       "      <td>741</td>\n",
       "      <td>TRANSFER</td>\n",
       "      <td>365423.309</td>\n",
       "      <td>C992223106</td>\n",
       "      <td>1822508.289</td>\n",
       "      <td>1970344.793</td>\n",
       "      <td>C1366804249</td>\n",
       "      <td>0.0</td>\n",
       "      <td>0.0</td>\n",
       "      <td>1</td>\n",
       "      <td>1</td>\n",
       "    </tr>\n",
       "  </tbody>\n",
       "</table>\n",
       "</div>"
      ],
      "text/plain": [
       "         step      type      amount     nameOrig  oldbalanceOrg  \\\n",
       "2736446   212  TRANSFER  365423.309   C728984460    1822508.289   \n",
       "3247297   250  TRANSFER  365423.309  C1100582606    1343002.080   \n",
       "3760288   279  TRANSFER  365423.309  C1035541766     536624.410   \n",
       "5563713   387  TRANSFER  365423.309   C908544136    1822508.289   \n",
       "5996407   425  TRANSFER  365423.309   C689608084    1822508.289   \n",
       "5996409   425  TRANSFER  365423.309   C452586515    1822508.289   \n",
       "6168499   554  TRANSFER  365423.309   C193696150    1822508.289   \n",
       "6205439   586  TRANSFER  353874.220  C1684585475     353874.220   \n",
       "6266413   617  TRANSFER  365423.309   C786455622    1822508.289   \n",
       "6281482   646  TRANSFER  365423.309    C19004745    1822508.289   \n",
       "6281484   646  TRANSFER  365423.309   C724693370    1822508.289   \n",
       "6296014   671  TRANSFER  365423.309   C917414431    1822508.289   \n",
       "6351225   702  TRANSFER  365423.309  C1892216157    1822508.289   \n",
       "6362460   730  TRANSFER  365423.309  C2140038573    1822508.289   \n",
       "6362462   730  TRANSFER  365423.309  C1869569059    1822508.289   \n",
       "6362584   741  TRANSFER  365423.309   C992223106    1822508.289   \n",
       "\n",
       "         newbalanceOrig     nameDest  oldbalanceDest  newbalanceDest  isFraud  \\\n",
       "2736446     1970344.793   C639921569             0.0             0.0        1   \n",
       "3247297     1343002.080  C1147517658             0.0             0.0        1   \n",
       "3760288      536624.410  C1100697970             0.0             0.0        1   \n",
       "5563713     1970344.793   C891140444             0.0             0.0        1   \n",
       "5996407     1970344.793  C1392803603             0.0             0.0        1   \n",
       "5996409     1970344.793  C1109166882             0.0             0.0        1   \n",
       "6168499     1970344.793   C484597480             0.0             0.0        1   \n",
       "6205439      353874.220  C1770418982             0.0             0.0        1   \n",
       "6266413     1970344.793   C661958277             0.0             0.0        1   \n",
       "6281482     1970344.793  C1806199534             0.0             0.0        1   \n",
       "6281484     1970344.793  C1909486199             0.0             0.0        1   \n",
       "6296014     1970344.793  C1082139865             0.0             0.0        1   \n",
       "6351225     1970344.793  C1308068787             0.0             0.0        1   \n",
       "6362460     1970344.793  C1395467927             0.0             0.0        1   \n",
       "6362462     1970344.793  C1861208726             0.0             0.0        1   \n",
       "6362584     1970344.793  C1366804249             0.0             0.0        1   \n",
       "\n",
       "         isFlaggedFraud  \n",
       "2736446               1  \n",
       "3247297               1  \n",
       "3760288               1  \n",
       "5563713               1  \n",
       "5996407               1  \n",
       "5996409               1  \n",
       "6168499               1  \n",
       "6205439               1  \n",
       "6266413               1  \n",
       "6281482               1  \n",
       "6281484               1  \n",
       "6296014               1  \n",
       "6351225               1  \n",
       "6362460               1  \n",
       "6362462               1  \n",
       "6362584               1  "
      ]
     },
     "execution_count": 39,
     "metadata": {},
     "output_type": "execute_result"
    }
   ],
   "source": [
    "flagged_fraud_records = data[(data.isFraud==1) & (data.isFlaggedFraud==1)]\n",
    "flagged_fraud_records"
   ]
  },
  {
   "cell_type": "code",
   "execution_count": 40,
   "metadata": {
    "execution": {
     "iopub.execute_input": "2023-02-16T11:07:50.08223Z",
     "iopub.status.busy": "2023-02-16T11:07:50.081506Z",
     "iopub.status.idle": "2023-02-16T11:07:50.089797Z",
     "shell.execute_reply": "2023-02-16T11:07:50.088568Z",
     "shell.execute_reply.started": "2023-02-16T11:07:50.082184Z"
    }
   },
   "outputs": [
    {
     "data": {
      "text/plain": [
       "(16, 11)"
      ]
     },
     "execution_count": 40,
     "metadata": {},
     "output_type": "execute_result"
    }
   ],
   "source": [
    "flagged_fraud_records.shape"
   ]
  },
  {
   "cell_type": "markdown",
   "metadata": {},
   "source": [
    "This denotes that all the records which were flagged as fraud were correct."
   ]
  },
  {
   "cell_type": "markdown",
   "metadata": {},
   "source": [
    "**Now let's look at the percentage of records which were flagged as fraud to the total fraud that happened**"
   ]
  },
  {
   "cell_type": "code",
   "execution_count": 41,
   "metadata": {
    "execution": {
     "iopub.execute_input": "2023-02-16T11:07:50.092347Z",
     "iopub.status.busy": "2023-02-16T11:07:50.091548Z",
     "iopub.status.idle": "2023-02-16T11:07:50.120515Z",
     "shell.execute_reply": "2023-02-16T11:07:50.119302Z",
     "shell.execute_reply.started": "2023-02-16T11:07:50.092305Z"
    }
   },
   "outputs": [
    {
     "data": {
      "text/plain": [
       "8213"
      ]
     },
     "execution_count": 41,
     "metadata": {},
     "output_type": "execute_result"
    }
   ],
   "source": [
    "total_fraud= data[data.isFraud ==1]\n",
    "total_fraud = total_fraud.shape[0]\n",
    "total_fraud"
   ]
  },
  {
   "cell_type": "code",
   "execution_count": 42,
   "metadata": {
    "execution": {
     "iopub.execute_input": "2023-02-16T11:07:50.122899Z",
     "iopub.status.busy": "2023-02-16T11:07:50.122203Z",
     "iopub.status.idle": "2023-02-16T11:07:50.13137Z",
     "shell.execute_reply": "2023-02-16T11:07:50.130055Z",
     "shell.execute_reply.started": "2023-02-16T11:07:50.122856Z"
    }
   },
   "outputs": [
    {
     "data": {
      "text/plain": [
       "16"
      ]
     },
     "execution_count": 42,
     "metadata": {},
     "output_type": "execute_result"
    }
   ],
   "source": [
    "total_isflaggedFraud= flagged_fraud_records.shape[0]\n",
    "total_isflaggedFraud"
   ]
  },
  {
   "cell_type": "code",
   "execution_count": 43,
   "metadata": {
    "execution": {
     "iopub.execute_input": "2023-02-16T11:07:50.134076Z",
     "iopub.status.busy": "2023-02-16T11:07:50.132952Z",
     "iopub.status.idle": "2023-02-16T11:07:50.143576Z",
     "shell.execute_reply": "2023-02-16T11:07:50.142029Z",
     "shell.execute_reply.started": "2023-02-16T11:07:50.134033Z"
    }
   },
   "outputs": [
    {
     "name": "stdout",
     "output_type": "stream",
     "text": [
      "Percentage of flagged fraud:  0.195\n",
      "Percentage of incorrectly flagged fraud:  99.805\n"
     ]
    }
   ],
   "source": [
    "flagged_percent = total_isflaggedFraud/total_fraud * 100\n",
    "print('Percentage of flagged fraud: ',round(flagged_percent,3))\n",
    "\n",
    "unflagged_percent= (total_fraud-total_isflaggedFraud)/total_fraud * 100\n",
    "print('Percentage of incorrectly flagged fraud: ',round(unflagged_percent,3))"
   ]
  },
  {
   "cell_type": "markdown",
   "metadata": {},
   "source": [
    "As we can see the percentage of records which are flagged as fraud is 0.195% which is very very less."
   ]
  },
  {
   "cell_type": "markdown",
   "metadata": {},
   "source": [
    "**4. Let's take a closer look at isFraud column**"
   ]
  },
  {
   "cell_type": "code",
   "execution_count": 44,
   "metadata": {
    "execution": {
     "iopub.execute_input": "2023-02-16T11:07:50.145726Z",
     "iopub.status.busy": "2023-02-16T11:07:50.14504Z",
     "iopub.status.idle": "2023-02-16T11:07:50.170637Z",
     "shell.execute_reply": "2023-02-16T11:07:50.169279Z",
     "shell.execute_reply.started": "2023-02-16T11:07:50.145684Z"
    }
   },
   "outputs": [
    {
     "data": {
      "text/plain": [
       "0.12908204481801522"
      ]
     },
     "execution_count": 44,
     "metadata": {},
     "output_type": "execute_result"
    }
   ],
   "source": [
    "total_transactions = data.shape[0]\n",
    "\n",
    "fraud_transaction = data[data.isFraud==1].shape[0]\n",
    "\n",
    "fraud_percent= fraud_transaction/total_transactions * 100\n",
    "fraud_percent"
   ]
  },
  {
   "cell_type": "code",
   "execution_count": 45,
   "metadata": {
    "execution": {
     "iopub.execute_input": "2023-02-16T11:07:50.173057Z",
     "iopub.status.busy": "2023-02-16T11:07:50.172563Z",
     "iopub.status.idle": "2023-02-16T11:07:50.180452Z",
     "shell.execute_reply": "2023-02-16T11:07:50.17879Z",
     "shell.execute_reply.started": "2023-02-16T11:07:50.173012Z"
    }
   },
   "outputs": [
    {
     "name": "stdout",
     "output_type": "stream",
     "text": [
      "Total transactions:  6362620\n",
      "Total fraud transactions happened:  8213\n",
      "Total fraud transaction percent:  0.13\n"
     ]
    }
   ],
   "source": [
    "print('Total transactions: ',total_transactions)\n",
    "print('Total fraud transactions happened: ',fraud_transaction)\n",
    "print(\"Total fraud transaction percent: \",round(fraud_percent,2))"
   ]
  },
  {
   "cell_type": "code",
   "execution_count": 46,
   "metadata": {
    "execution": {
     "iopub.execute_input": "2023-02-16T11:07:50.182284Z",
     "iopub.status.busy": "2023-02-16T11:07:50.181855Z",
     "iopub.status.idle": "2023-02-16T11:07:50.22928Z",
     "shell.execute_reply": "2023-02-16T11:07:50.228058Z",
     "shell.execute_reply.started": "2023-02-16T11:07:50.182234Z"
    }
   },
   "outputs": [
    {
     "data": {
      "text/html": [
       "<div>\n",
       "<style scoped>\n",
       "    .dataframe tbody tr th:only-of-type {\n",
       "        vertical-align: middle;\n",
       "    }\n",
       "\n",
       "    .dataframe tbody tr th {\n",
       "        vertical-align: top;\n",
       "    }\n",
       "\n",
       "    .dataframe thead th {\n",
       "        text-align: right;\n",
       "    }\n",
       "</style>\n",
       "<table border=\"1\" class=\"dataframe\">\n",
       "  <thead>\n",
       "    <tr style=\"text-align: right;\">\n",
       "      <th></th>\n",
       "      <th>step</th>\n",
       "      <th>type</th>\n",
       "      <th>amount</th>\n",
       "      <th>nameOrig</th>\n",
       "      <th>oldbalanceOrg</th>\n",
       "      <th>newbalanceOrig</th>\n",
       "      <th>nameDest</th>\n",
       "      <th>oldbalanceDest</th>\n",
       "      <th>newbalanceDest</th>\n",
       "      <th>isFraud</th>\n",
       "      <th>isFlaggedFraud</th>\n",
       "    </tr>\n",
       "  </thead>\n",
       "  <tbody>\n",
       "    <tr>\n",
       "      <th>5188057</th>\n",
       "      <td>367</td>\n",
       "      <td>CASH_OUT</td>\n",
       "      <td>365423.309</td>\n",
       "      <td>C1210833971</td>\n",
       "      <td>435867.160</td>\n",
       "      <td>0.000</td>\n",
       "      <td>C363013236</td>\n",
       "      <td>186826.40</td>\n",
       "      <td>622693.550</td>\n",
       "      <td>1</td>\n",
       "      <td>0</td>\n",
       "    </tr>\n",
       "    <tr>\n",
       "      <th>5990227</th>\n",
       "      <td>416</td>\n",
       "      <td>CASH_OUT</td>\n",
       "      <td>365423.309</td>\n",
       "      <td>C2110305720</td>\n",
       "      <td>1822508.289</td>\n",
       "      <td>0.000</td>\n",
       "      <td>C225008798</td>\n",
       "      <td>523626.59</td>\n",
       "      <td>3194869.671</td>\n",
       "      <td>1</td>\n",
       "      <td>0</td>\n",
       "    </tr>\n",
       "    <tr>\n",
       "      <th>5990225</th>\n",
       "      <td>416</td>\n",
       "      <td>CASH_OUT</td>\n",
       "      <td>365423.309</td>\n",
       "      <td>C246726057</td>\n",
       "      <td>1822508.289</td>\n",
       "      <td>0.000</td>\n",
       "      <td>C1786144514</td>\n",
       "      <td>2423749.18</td>\n",
       "      <td>3194869.671</td>\n",
       "      <td>1</td>\n",
       "      <td>0</td>\n",
       "    </tr>\n",
       "    <tr>\n",
       "      <th>5990224</th>\n",
       "      <td>416</td>\n",
       "      <td>TRANSFER</td>\n",
       "      <td>365423.309</td>\n",
       "      <td>C298387535</td>\n",
       "      <td>1822508.289</td>\n",
       "      <td>1970344.793</td>\n",
       "      <td>C662194461</td>\n",
       "      <td>0.00</td>\n",
       "      <td>0.000</td>\n",
       "      <td>1</td>\n",
       "      <td>0</td>\n",
       "    </tr>\n",
       "    <tr>\n",
       "      <th>5988262</th>\n",
       "      <td>415</td>\n",
       "      <td>CASH_OUT</td>\n",
       "      <td>365423.309</td>\n",
       "      <td>C2137951962</td>\n",
       "      <td>1675153.280</td>\n",
       "      <td>0.000</td>\n",
       "      <td>C309573869</td>\n",
       "      <td>12832.26</td>\n",
       "      <td>1687985.530</td>\n",
       "      <td>1</td>\n",
       "      <td>0</td>\n",
       "    </tr>\n",
       "    <tr>\n",
       "      <th>...</th>\n",
       "      <td>...</td>\n",
       "      <td>...</td>\n",
       "      <td>...</td>\n",
       "      <td>...</td>\n",
       "      <td>...</td>\n",
       "      <td>...</td>\n",
       "      <td>...</td>\n",
       "      <td>...</td>\n",
       "      <td>...</td>\n",
       "      <td>...</td>\n",
       "      <td>...</td>\n",
       "    </tr>\n",
       "    <tr>\n",
       "      <th>6002113</th>\n",
       "      <td>428</td>\n",
       "      <td>CASH_OUT</td>\n",
       "      <td>4501.300</td>\n",
       "      <td>C1838531308</td>\n",
       "      <td>3037.670</td>\n",
       "      <td>0.000</td>\n",
       "      <td>C505532836</td>\n",
       "      <td>800854.71</td>\n",
       "      <td>803892.380</td>\n",
       "      <td>1</td>\n",
       "      <td>0</td>\n",
       "    </tr>\n",
       "    <tr>\n",
       "      <th>6002112</th>\n",
       "      <td>428</td>\n",
       "      <td>TRANSFER</td>\n",
       "      <td>4501.300</td>\n",
       "      <td>C1408814433</td>\n",
       "      <td>3037.670</td>\n",
       "      <td>0.000</td>\n",
       "      <td>C944070846</td>\n",
       "      <td>0.00</td>\n",
       "      <td>0.000</td>\n",
       "      <td>1</td>\n",
       "      <td>0</td>\n",
       "    </tr>\n",
       "    <tr>\n",
       "      <th>1796322</th>\n",
       "      <td>162</td>\n",
       "      <td>TRANSFER</td>\n",
       "      <td>4501.300</td>\n",
       "      <td>C1172437299</td>\n",
       "      <td>151.000</td>\n",
       "      <td>0.000</td>\n",
       "      <td>C315826176</td>\n",
       "      <td>0.00</td>\n",
       "      <td>0.000</td>\n",
       "      <td>1</td>\n",
       "      <td>0</td>\n",
       "    </tr>\n",
       "    <tr>\n",
       "      <th>1796323</th>\n",
       "      <td>162</td>\n",
       "      <td>CASH_OUT</td>\n",
       "      <td>4501.300</td>\n",
       "      <td>C790340353</td>\n",
       "      <td>151.000</td>\n",
       "      <td>0.000</td>\n",
       "      <td>C517676411</td>\n",
       "      <td>386163.34</td>\n",
       "      <td>386314.340</td>\n",
       "      <td>1</td>\n",
       "      <td>0</td>\n",
       "    </tr>\n",
       "    <tr>\n",
       "      <th>2</th>\n",
       "      <td>1</td>\n",
       "      <td>TRANSFER</td>\n",
       "      <td>4501.300</td>\n",
       "      <td>C1305486145</td>\n",
       "      <td>181.000</td>\n",
       "      <td>0.000</td>\n",
       "      <td>C553264065</td>\n",
       "      <td>0.00</td>\n",
       "      <td>0.000</td>\n",
       "      <td>1</td>\n",
       "      <td>0</td>\n",
       "    </tr>\n",
       "  </tbody>\n",
       "</table>\n",
       "<p>8213 rows × 11 columns</p>\n",
       "</div>"
      ],
      "text/plain": [
       "         step      type      amount     nameOrig  oldbalanceOrg  \\\n",
       "5188057   367  CASH_OUT  365423.309  C1210833971     435867.160   \n",
       "5990227   416  CASH_OUT  365423.309  C2110305720    1822508.289   \n",
       "5990225   416  CASH_OUT  365423.309   C246726057    1822508.289   \n",
       "5990224   416  TRANSFER  365423.309   C298387535    1822508.289   \n",
       "5988262   415  CASH_OUT  365423.309  C2137951962    1675153.280   \n",
       "...       ...       ...         ...          ...            ...   \n",
       "6002113   428  CASH_OUT    4501.300  C1838531308       3037.670   \n",
       "6002112   428  TRANSFER    4501.300  C1408814433       3037.670   \n",
       "1796322   162  TRANSFER    4501.300  C1172437299        151.000   \n",
       "1796323   162  CASH_OUT    4501.300   C790340353        151.000   \n",
       "2           1  TRANSFER    4501.300  C1305486145        181.000   \n",
       "\n",
       "         newbalanceOrig     nameDest  oldbalanceDest  newbalanceDest  isFraud  \\\n",
       "5188057           0.000   C363013236       186826.40      622693.550        1   \n",
       "5990227           0.000   C225008798       523626.59     3194869.671        1   \n",
       "5990225           0.000  C1786144514      2423749.18     3194869.671        1   \n",
       "5990224     1970344.793   C662194461            0.00           0.000        1   \n",
       "5988262           0.000   C309573869        12832.26     1687985.530        1   \n",
       "...                 ...          ...             ...             ...      ...   \n",
       "6002113           0.000   C505532836       800854.71      803892.380        1   \n",
       "6002112           0.000   C944070846            0.00           0.000        1   \n",
       "1796322           0.000   C315826176            0.00           0.000        1   \n",
       "1796323           0.000   C517676411       386163.34      386314.340        1   \n",
       "2                 0.000   C553264065            0.00           0.000        1   \n",
       "\n",
       "         isFlaggedFraud  \n",
       "5188057               0  \n",
       "5990227               0  \n",
       "5990225               0  \n",
       "5990224               0  \n",
       "5988262               0  \n",
       "...                 ...  \n",
       "6002113               0  \n",
       "6002112               0  \n",
       "1796322               0  \n",
       "1796323               0  \n",
       "2                     0  \n",
       "\n",
       "[8213 rows x 11 columns]"
      ]
     },
     "execution_count": 46,
     "metadata": {},
     "output_type": "execute_result"
    }
   ],
   "source": [
    "fraud_amount= data[data.isFraud==1]\n",
    "fraud_amount=fraud_amount.sort_values(by=['amount'],ascending=False)\n",
    "fraud_amount"
   ]
  },
  {
   "cell_type": "code",
   "execution_count": 47,
   "metadata": {
    "execution": {
     "iopub.execute_input": "2023-02-16T11:07:50.231792Z",
     "iopub.status.busy": "2023-02-16T11:07:50.231054Z",
     "iopub.status.idle": "2023-02-16T11:07:50.507998Z",
     "shell.execute_reply": "2023-02-16T11:07:50.507147Z",
     "shell.execute_reply.started": "2023-02-16T11:07:50.23174Z"
    }
   },
   "outputs": [
    {
     "data": {
      "text/plain": [
       "<Axes: ylabel='Frequency'>"
      ]
     },
     "execution_count": 47,
     "metadata": {},
     "output_type": "execute_result"
    },
    {
     "data": {
      "image/png": "[encoded data removed]",
      "text/plain": [
       "<Figure size 1200x600 with 1 Axes>"
      ]
     },
     "metadata": {},
     "output_type": "display_data"
    }
   ],
   "source": [
    "fraud_amount.amount.plot(kind='hist', bins=15, figsize=(12,6), facecolor='orange',edgecolor='black')"
   ]
  },
  {
   "cell_type": "markdown",
   "metadata": {},
   "source": [
    "We've found that fraud amount transaction ranges between 1.3-3.6 lakh\n",
    "\n",
    "Now, we can see that among them most occured were around 340,000-360,000 (3.4-3.6 lakh)"
   ]
  },
  {
   "cell_type": "markdown",
   "metadata": {},
   "source": [
    "**5. Let's take a closer look at nameDest column**"
   ]
  },
  {
   "cell_type": "code",
   "execution_count": 48,
   "metadata": {
    "execution": {
     "iopub.execute_input": "2023-02-16T11:07:50.510347Z",
     "iopub.status.busy": "2023-02-16T11:07:50.509628Z",
     "iopub.status.idle": "2023-02-16T11:07:57.268126Z",
     "shell.execute_reply": "2023-02-16T11:07:57.267346Z",
     "shell.execute_reply.started": "2023-02-16T11:07:50.510304Z"
    }
   },
   "outputs": [
    {
     "data": {
      "text/plain": [
       "C1286084959    113\n",
       "C985934102     109\n",
       "C665576141     105\n",
       "C2083562754    102\n",
       "C248609774     101\n",
       "              ... \n",
       "M1470027725      1\n",
       "M1330329251      1\n",
       "M1784358659      1\n",
       "M2081431099      1\n",
       "C2080388513      1\n",
       "Name: nameDest, Length: 2722362, dtype: int64"
      ]
     },
     "execution_count": 48,
     "metadata": {},
     "output_type": "execute_result"
    }
   ],
   "source": [
    "fraudster= data.nameDest.value_counts()\n",
    "fraudster"
   ]
  },
  {
   "cell_type": "markdown",
   "metadata": {},
   "source": [
    "Since we have large number of unique values, we'll take only top 10 fraudster id name.\n",
    "\n",
    "Taking the top 10 fraudster ids"
   ]
  },
  {
   "cell_type": "code",
   "execution_count": 49,
   "metadata": {
    "execution": {
     "iopub.execute_input": "2023-02-16T11:07:57.270475Z",
     "iopub.status.busy": "2023-02-16T11:07:57.269426Z",
     "iopub.status.idle": "2023-02-16T11:07:57.428003Z",
     "shell.execute_reply": "2023-02-16T11:07:57.4267Z",
     "shell.execute_reply.started": "2023-02-16T11:07:57.270441Z"
    }
   },
   "outputs": [
    {
     "data": {
      "text/plain": [
       "C1286084959    113\n",
       "C985934102     109\n",
       "C665576141     105\n",
       "C2083562754    102\n",
       "C248609774     101\n",
       "C1590550415    101\n",
       "C451111351      99\n",
       "C1789550256     99\n",
       "C1360767589     98\n",
       "C1023714065     97\n",
       "Name: nameDest, dtype: int64"
      ]
     },
     "execution_count": 49,
     "metadata": {},
     "output_type": "execute_result"
    }
   ],
   "source": [
    "fraudster[:10]"
   ]
  },
  {
   "cell_type": "code",
   "execution_count": 50,
   "metadata": {
    "execution": {
     "iopub.execute_input": "2023-02-16T11:07:57.430413Z",
     "iopub.status.busy": "2023-02-16T11:07:57.429911Z",
     "iopub.status.idle": "2023-02-16T11:07:57.690933Z",
     "shell.execute_reply": "2023-02-16T11:07:57.690026Z",
     "shell.execute_reply.started": "2023-02-16T11:07:57.430371Z"
    }
   },
   "outputs": [
    {
     "data": {
      "text/plain": [
       "<Axes: >"
      ]
     },
     "execution_count": 50,
     "metadata": {},
     "output_type": "execute_result"
    },
    {
     "data": {
      "image/png": "[encoded data removed]",
      "text/plain": [
       "<Figure size 640x480 with 1 Axes>"
      ]
     },
     "metadata": {},
     "output_type": "display_data"
    }
   ],
   "source": [
    "fraudster[:10].plot(kind='barh')"
   ]
  },
  {
   "cell_type": "markdown",
   "metadata": {},
   "source": [
    "**6. Let's take a closer look at step column**"
   ]
  },
  {
   "cell_type": "code",
   "execution_count": 75,
   "metadata": {
    "execution": {
     "iopub.execute_input": "2023-02-16T11:07:57.69296Z",
     "iopub.status.busy": "2023-02-16T11:07:57.69239Z",
     "iopub.status.idle": "2023-02-16T11:08:24.579438Z",
     "shell.execute_reply": "2023-02-16T11:08:24.578413Z",
     "shell.execute_reply.started": "2023-02-16T11:07:57.692923Z"
    }
   },
   "outputs": [
    {
     "data": {
      "text/plain": [
       "<Axes: xlabel='step', ylabel='Density'>"
      ]
     },
     "execution_count": 75,
     "metadata": {},
     "output_type": "execute_result"
    },
    {
     "data": {
      "image/png": "[encoded data removed]",
      "text/plain": [
       "<Figure size 1500x600 with 1 Axes>"
      ]
     },
     "metadata": {},
     "output_type": "display_data"
    }
   ],
   "source": [
    "plt.figure(figsize=(15, 6))\n",
    "sns.distplot(data['step'], bins=50)"
   ]
  },
  {
   "cell_type": "markdown",
   "metadata": {},
   "source": [
    "There is a maximum distribution of 100 to 400 of step"
   ]
  },
  {
   "cell_type": "markdown",
   "metadata": {},
   "source": [
    "# Bivariate Analysis"
   ]
  },
  {
   "cell_type": "code",
   "execution_count": 52,
   "metadata": {
    "execution": {
     "iopub.execute_input": "2023-02-16T11:08:24.58118Z",
     "iopub.status.busy": "2023-02-16T11:08:24.580732Z",
     "iopub.status.idle": "2023-02-16T11:08:26.741456Z",
     "shell.execute_reply": "2023-02-16T11:08:26.740405Z",
     "shell.execute_reply.started": "2023-02-16T11:08:24.581145Z"
    }
   },
   "outputs": [
    {
     "name": "stderr",
     "output_type": "stream",
     "text": [
      "C:\\Users\\acer\\AppData\\Local\\Temp\\ipykernel_18872\\2181245761.py:2: FutureWarning: The default value of numeric_only in DataFrame.corr is deprecated. In a future version, it will default to False. Select only valid columns or specify the value of numeric_only to silence this warning.\n",
      "  corr = data.corr()# plot the heatmap\n"
     ]
    },
    {
     "data": {
      "text/plain": [
       "<Axes: >"
      ]
     },
     "execution_count": 52,
     "metadata": {},
     "output_type": "execute_result"
    },
    {
     "data": {
      "image/png": "[encoded data removed]",
      "text/plain": [
       "<Figure size 640x480 with 2 Axes>"
      ]
     },
     "metadata": {},
     "output_type": "display_data"
    }
   ],
   "source": [
    "# calculate correlation matrix\n",
    "corr = data.corr()# plot the heatmap\n",
    "sns.heatmap(corr, xticklabels=corr.columns, yticklabels=corr.columns, annot=True, cmap='Blues' ,fmt=\".3f\")"
   ]
  },
  {
   "cell_type": "markdown",
   "metadata": {},
   "source": [
    "* There is a high correlation between newbalanceOrig and oldbalanceOrg.\n",
    "* Also, between newbalanceDest and oldbalanceDest.\n",
    "* Apart from that, we have a relatively high correlation between amount and newbalanceDest and amount with oldbalanceDest"
   ]
  },
  {
   "cell_type": "markdown",
   "metadata": {},
   "source": [
    "# Data Preprocessing\n",
    "Since the given dataset is highly imbalanced we need to balance the dataset before training our model."
   ]
  },
  {
   "cell_type": "code",
   "execution_count": 53,
   "metadata": {
    "execution": {
     "iopub.execute_input": "2023-02-16T11:08:26.743476Z",
     "iopub.status.busy": "2023-02-16T11:08:26.742746Z",
     "iopub.status.idle": "2023-02-16T11:08:26.80469Z",
     "shell.execute_reply": "2023-02-16T11:08:26.803609Z",
     "shell.execute_reply.started": "2023-02-16T11:08:26.743441Z"
    }
   },
   "outputs": [
    {
     "data": {
      "text/plain": [
       "0    6354407\n",
       "1       8213\n",
       "Name: isFraud, dtype: int64"
      ]
     },
     "execution_count": 53,
     "metadata": {},
     "output_type": "execute_result"
    }
   ],
   "source": [
    "data.isFraud.value_counts()"
   ]
  },
  {
   "cell_type": "code",
   "execution_count": 54,
   "metadata": {
    "execution": {
     "iopub.execute_input": "2023-02-16T11:08:26.806863Z",
     "iopub.status.busy": "2023-02-16T11:08:26.806409Z",
     "iopub.status.idle": "2023-02-16T11:08:27.064702Z",
     "shell.execute_reply": "2023-02-16T11:08:27.062928Z",
     "shell.execute_reply.started": "2023-02-16T11:08:26.806821Z"
    }
   },
   "outputs": [
    {
     "data": {
      "image/png": "[encoded data removed]",
      "text/plain": [
       "<Figure size 640x480 with 1 Axes>"
      ]
     },
     "metadata": {},
     "output_type": "display_data"
    }
   ],
   "source": [
    "plt.pie(data.isFraud.value_counts(),\n",
    "        autopct='%1.1f%%', pctdistance=0.85)\n",
    "centre_circle = plt.Circle((0, 0), 0.70, fc='white')\n",
    "fig = plt.gcf()\n",
    "fig.gca().add_artist(centre_circle)\n",
    "plt.show()"
   ]
  },
  {
   "cell_type": "code",
   "execution_count": 55,
   "metadata": {
    "execution": {
     "iopub.execute_input": "2023-02-16T11:08:27.06951Z",
     "iopub.status.busy": "2023-02-16T11:08:27.067891Z",
     "iopub.status.idle": "2023-02-16T11:08:27.818006Z",
     "shell.execute_reply": "2023-02-16T11:08:27.816772Z",
     "shell.execute_reply.started": "2023-02-16T11:08:27.069427Z"
    }
   },
   "outputs": [
    {
     "name": "stdout",
     "output_type": "stream",
     "text": [
      "class 0: (6354407, 11)\n",
      "class 1: (8213, 11)\n"
     ]
    }
   ],
   "source": [
    "# class count\n",
    "class_count_0, class_count_1 = data['isFraud'].value_counts()\n",
    "\n",
    "# Separate class\n",
    "class_0 = data[data['isFraud'] == 0]\n",
    "class_1 = data[data['isFraud'] == 1]# print the shape of the class\n",
    "print('class 0:', class_0.shape)\n",
    "print('class 1:', class_1.shape)"
   ]
  },
  {
   "cell_type": "markdown",
   "metadata": {},
   "source": [
    "# Under Sampling technique"
   ]
  },
  {
   "cell_type": "code",
   "execution_count": 56,
   "metadata": {
    "execution": {
     "iopub.execute_input": "2023-02-16T11:08:27.820163Z",
     "iopub.status.busy": "2023-02-16T11:08:27.819687Z",
     "iopub.status.idle": "2023-02-16T11:08:28.348768Z",
     "shell.execute_reply": "2023-02-16T11:08:28.347936Z",
     "shell.execute_reply.started": "2023-02-16T11:08:27.820119Z"
    }
   },
   "outputs": [
    {
     "name": "stdout",
     "output_type": "stream",
     "text": [
      "total class of 1 and0: 0    8213\n",
      "1    8213\n",
      "Name: isFraud, dtype: int64\n"
     ]
    },
    {
     "data": {
      "text/plain": [
       "<Axes: title={'center': 'count (target)'}>"
      ]
     },
     "execution_count": 56,
     "metadata": {},
     "output_type": "execute_result"
    },
    {
     "data": {
      "image/png": "[encoded data removed]",
      "text/plain": [
       "<Figure size 640x480 with 1 Axes>"
      ]
     },
     "metadata": {},
     "output_type": "display_data"
    }
   ],
   "source": [
    "class_0_under = class_0.sample(class_count_1)\n",
    "\n",
    "balanced_data = pd.concat([class_0_under, class_1], axis=0)\n",
    "\n",
    "print(\"total class of 1 and0:\",balanced_data['isFraud'].value_counts())# plot the count after under-sampeling\n",
    "balanced_data['isFraud'].value_counts().plot(kind='bar', title='count (target)')"
   ]
  },
  {
   "cell_type": "code",
   "execution_count": 57,
   "metadata": {
    "execution": {
     "iopub.execute_input": "2023-02-16T11:08:28.351369Z",
     "iopub.status.busy": "2023-02-16T11:08:28.350316Z",
     "iopub.status.idle": "2023-02-16T11:08:28.375322Z",
     "shell.execute_reply": "2023-02-16T11:08:28.374073Z",
     "shell.execute_reply.started": "2023-02-16T11:08:28.351334Z"
    }
   },
   "outputs": [
    {
     "data": {
      "text/html": [
       "<div>\n",
       "<style scoped>\n",
       "    .dataframe tbody tr th:only-of-type {\n",
       "        vertical-align: middle;\n",
       "    }\n",
       "\n",
       "    .dataframe tbody tr th {\n",
       "        vertical-align: top;\n",
       "    }\n",
       "\n",
       "    .dataframe thead th {\n",
       "        text-align: right;\n",
       "    }\n",
       "</style>\n",
       "<table border=\"1\" class=\"dataframe\">\n",
       "  <thead>\n",
       "    <tr style=\"text-align: right;\">\n",
       "      <th></th>\n",
       "      <th>step</th>\n",
       "      <th>type</th>\n",
       "      <th>amount</th>\n",
       "      <th>nameOrig</th>\n",
       "      <th>oldbalanceOrg</th>\n",
       "      <th>newbalanceOrig</th>\n",
       "      <th>nameDest</th>\n",
       "      <th>oldbalanceDest</th>\n",
       "      <th>newbalanceDest</th>\n",
       "      <th>isFraud</th>\n",
       "      <th>isFlaggedFraud</th>\n",
       "    </tr>\n",
       "  </thead>\n",
       "  <tbody>\n",
       "    <tr>\n",
       "      <th>3834762</th>\n",
       "      <td>282</td>\n",
       "      <td>CASH_OUT</td>\n",
       "      <td>4501.300</td>\n",
       "      <td>C459416481</td>\n",
       "      <td>114352.000</td>\n",
       "      <td>113513.93</td>\n",
       "      <td>C1226076600</td>\n",
       "      <td>2914266.669</td>\n",
       "      <td>3168088.130</td>\n",
       "      <td>0</td>\n",
       "      <td>0</td>\n",
       "    </tr>\n",
       "    <tr>\n",
       "      <th>3814792</th>\n",
       "      <td>281</td>\n",
       "      <td>CASH_OUT</td>\n",
       "      <td>182132.030</td>\n",
       "      <td>C288535126</td>\n",
       "      <td>37369.000</td>\n",
       "      <td>0.00</td>\n",
       "      <td>C1918779766</td>\n",
       "      <td>495005.930</td>\n",
       "      <td>677137.960</td>\n",
       "      <td>0</td>\n",
       "      <td>0</td>\n",
       "    </tr>\n",
       "    <tr>\n",
       "      <th>4649435</th>\n",
       "      <td>330</td>\n",
       "      <td>CASH_OUT</td>\n",
       "      <td>112802.240</td>\n",
       "      <td>C2118589209</td>\n",
       "      <td>49832.740</td>\n",
       "      <td>0.00</td>\n",
       "      <td>C354665921</td>\n",
       "      <td>255163.700</td>\n",
       "      <td>367965.940</td>\n",
       "      <td>0</td>\n",
       "      <td>0</td>\n",
       "    </tr>\n",
       "    <tr>\n",
       "      <th>2567940</th>\n",
       "      <td>206</td>\n",
       "      <td>PAYMENT</td>\n",
       "      <td>5447.570</td>\n",
       "      <td>C1555525167</td>\n",
       "      <td>20994.000</td>\n",
       "      <td>15546.43</td>\n",
       "      <td>M1479482711</td>\n",
       "      <td>0.000</td>\n",
       "      <td>0.000</td>\n",
       "      <td>0</td>\n",
       "      <td>0</td>\n",
       "    </tr>\n",
       "    <tr>\n",
       "      <th>5347762</th>\n",
       "      <td>375</td>\n",
       "      <td>CASH_IN</td>\n",
       "      <td>22545.600</td>\n",
       "      <td>C63118435</td>\n",
       "      <td>9069.000</td>\n",
       "      <td>31614.60</td>\n",
       "      <td>C539816992</td>\n",
       "      <td>2914266.669</td>\n",
       "      <td>3194869.671</td>\n",
       "      <td>0</td>\n",
       "      <td>0</td>\n",
       "    </tr>\n",
       "    <tr>\n",
       "      <th>...</th>\n",
       "      <td>...</td>\n",
       "      <td>...</td>\n",
       "      <td>...</td>\n",
       "      <td>...</td>\n",
       "      <td>...</td>\n",
       "      <td>...</td>\n",
       "      <td>...</td>\n",
       "      <td>...</td>\n",
       "      <td>...</td>\n",
       "      <td>...</td>\n",
       "      <td>...</td>\n",
       "    </tr>\n",
       "    <tr>\n",
       "      <th>6362615</th>\n",
       "      <td>743</td>\n",
       "      <td>CASH_OUT</td>\n",
       "      <td>339682.130</td>\n",
       "      <td>C786484425</td>\n",
       "      <td>339682.130</td>\n",
       "      <td>0.00</td>\n",
       "      <td>C776919290</td>\n",
       "      <td>0.000</td>\n",
       "      <td>339682.130</td>\n",
       "      <td>1</td>\n",
       "      <td>0</td>\n",
       "    </tr>\n",
       "    <tr>\n",
       "      <th>6362616</th>\n",
       "      <td>743</td>\n",
       "      <td>TRANSFER</td>\n",
       "      <td>365423.309</td>\n",
       "      <td>C1529008245</td>\n",
       "      <td>1822508.289</td>\n",
       "      <td>0.00</td>\n",
       "      <td>C1881841831</td>\n",
       "      <td>0.000</td>\n",
       "      <td>0.000</td>\n",
       "      <td>1</td>\n",
       "      <td>0</td>\n",
       "    </tr>\n",
       "    <tr>\n",
       "      <th>6362617</th>\n",
       "      <td>743</td>\n",
       "      <td>CASH_OUT</td>\n",
       "      <td>365423.309</td>\n",
       "      <td>C1162922333</td>\n",
       "      <td>1822508.289</td>\n",
       "      <td>0.00</td>\n",
       "      <td>C1365125890</td>\n",
       "      <td>68488.840</td>\n",
       "      <td>3194869.671</td>\n",
       "      <td>1</td>\n",
       "      <td>0</td>\n",
       "    </tr>\n",
       "    <tr>\n",
       "      <th>6362618</th>\n",
       "      <td>743</td>\n",
       "      <td>TRANSFER</td>\n",
       "      <td>365423.309</td>\n",
       "      <td>C1685995037</td>\n",
       "      <td>850002.520</td>\n",
       "      <td>0.00</td>\n",
       "      <td>C2080388513</td>\n",
       "      <td>0.000</td>\n",
       "      <td>0.000</td>\n",
       "      <td>1</td>\n",
       "      <td>0</td>\n",
       "    </tr>\n",
       "    <tr>\n",
       "      <th>6362619</th>\n",
       "      <td>743</td>\n",
       "      <td>CASH_OUT</td>\n",
       "      <td>365423.309</td>\n",
       "      <td>C1280323807</td>\n",
       "      <td>850002.520</td>\n",
       "      <td>0.00</td>\n",
       "      <td>C873221189</td>\n",
       "      <td>2914266.669</td>\n",
       "      <td>3194869.671</td>\n",
       "      <td>1</td>\n",
       "      <td>0</td>\n",
       "    </tr>\n",
       "  </tbody>\n",
       "</table>\n",
       "<p>16426 rows × 11 columns</p>\n",
       "</div>"
      ],
      "text/plain": [
       "         step      type      amount     nameOrig  oldbalanceOrg  \\\n",
       "3834762   282  CASH_OUT    4501.300   C459416481     114352.000   \n",
       "3814792   281  CASH_OUT  182132.030   C288535126      37369.000   \n",
       "4649435   330  CASH_OUT  112802.240  C2118589209      49832.740   \n",
       "2567940   206   PAYMENT    5447.570  C1555525167      20994.000   \n",
       "5347762   375   CASH_IN   22545.600    C63118435       9069.000   \n",
       "...       ...       ...         ...          ...            ...   \n",
       "6362615   743  CASH_OUT  339682.130   C786484425     339682.130   \n",
       "6362616   743  TRANSFER  365423.309  C1529008245    1822508.289   \n",
       "6362617   743  CASH_OUT  365423.309  C1162922333    1822508.289   \n",
       "6362618   743  TRANSFER  365423.309  C1685995037     850002.520   \n",
       "6362619   743  CASH_OUT  365423.309  C1280323807     850002.520   \n",
       "\n",
       "         newbalanceOrig     nameDest  oldbalanceDest  newbalanceDest  isFraud  \\\n",
       "3834762       113513.93  C1226076600     2914266.669     3168088.130        0   \n",
       "3814792            0.00  C1918779766      495005.930      677137.960        0   \n",
       "4649435            0.00   C354665921      255163.700      367965.940        0   \n",
       "2567940        15546.43  M1479482711           0.000           0.000        0   \n",
       "5347762        31614.60   C539816992     2914266.669     3194869.671        0   \n",
       "...                 ...          ...             ...             ...      ...   \n",
       "6362615            0.00   C776919290           0.000      339682.130        1   \n",
       "6362616            0.00  C1881841831           0.000           0.000        1   \n",
       "6362617            0.00  C1365125890       68488.840     3194869.671        1   \n",
       "6362618            0.00  C2080388513           0.000           0.000        1   \n",
       "6362619            0.00   C873221189     2914266.669     3194869.671        1   \n",
       "\n",
       "         isFlaggedFraud  \n",
       "3834762               0  \n",
       "3814792               0  \n",
       "4649435               0  \n",
       "2567940               0  \n",
       "5347762               0  \n",
       "...                 ...  \n",
       "6362615               0  \n",
       "6362616               0  \n",
       "6362617               0  \n",
       "6362618               0  \n",
       "6362619               0  \n",
       "\n",
       "[16426 rows x 11 columns]"
      ]
     },
     "execution_count": 57,
     "metadata": {},
     "output_type": "execute_result"
    }
   ],
   "source": [
    "balanced_data"
   ]
  },
  {
   "cell_type": "code",
   "execution_count": 58,
   "metadata": {
    "execution": {
     "iopub.execute_input": "2023-02-16T11:08:28.37763Z",
     "iopub.status.busy": "2023-02-16T11:08:28.377181Z",
     "iopub.status.idle": "2023-02-16T11:08:28.40153Z",
     "shell.execute_reply": "2023-02-16T11:08:28.400293Z",
     "shell.execute_reply.started": "2023-02-16T11:08:28.377588Z"
    }
   },
   "outputs": [
    {
     "name": "stdout",
     "output_type": "stream",
     "text": [
      "<class 'pandas.core.frame.DataFrame'>\n",
      "Int64Index: 16426 entries, 3834762 to 6362619\n",
      "Data columns (total 11 columns):\n",
      " #   Column          Non-Null Count  Dtype  \n",
      "---  ------          --------------  -----  \n",
      " 0   step            16426 non-null  int64  \n",
      " 1   type            16426 non-null  object \n",
      " 2   amount          16426 non-null  float64\n",
      " 3   nameOrig        16426 non-null  object \n",
      " 4   oldbalanceOrg   16426 non-null  float64\n",
      " 5   newbalanceOrig  16426 non-null  float64\n",
      " 6   nameDest        16426 non-null  object \n",
      " 7   oldbalanceDest  16426 non-null  float64\n",
      " 8   newbalanceDest  16426 non-null  float64\n",
      " 9   isFraud         16426 non-null  int64  \n",
      " 10  isFlaggedFraud  16426 non-null  int64  \n",
      "dtypes: float64(5), int64(3), object(3)\n",
      "memory usage: 1.5+ MB\n"
     ]
    }
   ],
   "source": [
    "balanced_data.info()"
   ]
  },
  {
   "cell_type": "code",
   "execution_count": 59,
   "metadata": {
    "execution": {
     "iopub.execute_input": "2023-02-16T11:08:28.403984Z",
     "iopub.status.busy": "2023-02-16T11:08:28.403061Z",
     "iopub.status.idle": "2023-02-16T11:08:28.410864Z",
     "shell.execute_reply": "2023-02-16T11:08:28.410134Z",
     "shell.execute_reply.started": "2023-02-16T11:08:28.40395Z"
    }
   },
   "outputs": [
    {
     "data": {
      "text/plain": [
       "array(['CASH_OUT', 'PAYMENT', 'CASH_IN', 'TRANSFER', 'DEBIT'],\n",
       "      dtype=object)"
      ]
     },
     "execution_count": 59,
     "metadata": {},
     "output_type": "execute_result"
    }
   ],
   "source": [
    "balanced_data.type.unique()"
   ]
  },
  {
   "cell_type": "code",
   "execution_count": 60,
   "metadata": {
    "execution": {
     "iopub.execute_input": "2023-02-16T11:08:28.412691Z",
     "iopub.status.busy": "2023-02-16T11:08:28.412023Z",
     "iopub.status.idle": "2023-02-16T11:08:28.422519Z",
     "shell.execute_reply": "2023-02-16T11:08:28.42149Z",
     "shell.execute_reply.started": "2023-02-16T11:08:28.412659Z"
    }
   },
   "outputs": [],
   "source": [
    "balanced_data[\"type\"] = balanced_data[\"type\"].map({\"CASH_OUT\": 1, \"PAYMENT\": 2, \"CASH_IN\": 3, \"TRANSFER\": 4, \"DEBIT\": 5})"
   ]
  },
  {
   "cell_type": "code",
   "execution_count": 61,
   "metadata": {
    "execution": {
     "iopub.execute_input": "2023-02-16T11:08:28.426353Z",
     "iopub.status.busy": "2023-02-16T11:08:28.42599Z",
     "iopub.status.idle": "2023-02-16T11:08:28.43727Z",
     "shell.execute_reply": "2023-02-16T11:08:28.436516Z",
     "shell.execute_reply.started": "2023-02-16T11:08:28.42632Z"
    }
   },
   "outputs": [
    {
     "data": {
      "text/plain": [
       "Index(['step', 'type', 'amount', 'nameOrig', 'oldbalanceOrg', 'newbalanceOrig',\n",
       "       'nameDest', 'oldbalanceDest', 'newbalanceDest', 'isFraud',\n",
       "       'isFlaggedFraud'],\n",
       "      dtype='object')"
      ]
     },
     "execution_count": 61,
     "metadata": {},
     "output_type": "execute_result"
    }
   ],
   "source": [
    "balanced_data.columns"
   ]
  },
  {
   "cell_type": "code",
   "execution_count": 62,
   "metadata": {
    "execution": {
     "iopub.execute_input": "2023-02-16T11:08:28.438918Z",
     "iopub.status.busy": "2023-02-16T11:08:28.438447Z",
     "iopub.status.idle": "2023-02-16T11:08:28.457379Z",
     "shell.execute_reply": "2023-02-16T11:08:28.456312Z",
     "shell.execute_reply.started": "2023-02-16T11:08:28.438888Z"
    }
   },
   "outputs": [],
   "source": [
    "X = balanced_data[['type', 'amount', 'oldbalanceOrg', 'newbalanceOrig']].values\n",
    "y = balanced_data['isFraud'].values"
   ]
  },
  {
   "cell_type": "markdown",
   "metadata": {},
   "source": [
    "# Splitting the Dataset"
   ]
  },
  {
   "cell_type": "code",
   "execution_count": 63,
   "metadata": {
    "execution": {
     "iopub.execute_input": "2023-02-16T11:08:28.460276Z",
     "iopub.status.busy": "2023-02-16T11:08:28.459047Z",
     "iopub.status.idle": "2023-02-16T11:08:28.468696Z",
     "shell.execute_reply": "2023-02-16T11:08:28.467598Z",
     "shell.execute_reply.started": "2023-02-16T11:08:28.460228Z"
    }
   },
   "outputs": [],
   "source": [
    "from sklearn.model_selection import train_test_split\n",
    "X_train, X_test, y_train, y_test = train_test_split(X, y, test_size=0.2, random_state=0)"
   ]
  },
  {
   "cell_type": "markdown",
   "metadata": {},
   "source": [
    "# Standardize the Dataset"
   ]
  },
  {
   "cell_type": "code",
   "execution_count": 64,
   "metadata": {
    "execution": {
     "iopub.execute_input": "2023-02-16T11:08:28.470767Z",
     "iopub.status.busy": "2023-02-16T11:08:28.470273Z",
     "iopub.status.idle": "2023-02-16T11:08:28.482434Z",
     "shell.execute_reply": "2023-02-16T11:08:28.481369Z",
     "shell.execute_reply.started": "2023-02-16T11:08:28.470736Z"
    }
   },
   "outputs": [
    {
     "name": "stdout",
     "output_type": "stream",
     "text": [
      "[2.26301370e+00 1.90912724e+05 4.93930725e+05 1.53482971e+05]\n"
     ]
    }
   ],
   "source": [
    "from sklearn.preprocessing import StandardScaler\n",
    "scaler= StandardScaler()\n",
    "scaler.fit(X_train)\n",
    "print(scaler.mean_)\n",
    "X_train = scaler.transform(X_train)\n",
    "X_test = scaler.transform(X_test)"
   ]
  },
  {
   "cell_type": "code",
   "execution_count": 65,
   "metadata": {
    "execution": {
     "iopub.execute_input": "2023-02-16T11:08:28.484524Z",
     "iopub.status.busy": "2023-02-16T11:08:28.483895Z",
     "iopub.status.idle": "2023-02-16T11:08:28.491043Z",
     "shell.execute_reply": "2023-02-16T11:08:28.490146Z",
     "shell.execute_reply.started": "2023-02-16T11:08:28.484491Z"
    }
   },
   "outputs": [],
   "source": [
    "from sklearn import preprocessing\n",
    "from sklearn import utils\n",
    "\n",
    "#convert y values to categorical values\n",
    "lab = preprocessing.LabelEncoder()\n",
    "y_train = lab.fit_transform(y_train)\n",
    "y_test = lab.fit_transform(y_test)"
   ]
  },
  {
   "cell_type": "markdown",
   "metadata": {},
   "source": [
    "# Building the model and Fitting the Data"
   ]
  },
  {
   "cell_type": "code",
   "execution_count": 66,
   "metadata": {
    "execution": {
     "iopub.execute_input": "2023-02-16T11:08:28.493412Z",
     "iopub.status.busy": "2023-02-16T11:08:28.492678Z",
     "iopub.status.idle": "2023-02-16T11:08:28.501907Z",
     "shell.execute_reply": "2023-02-16T11:08:28.500997Z",
     "shell.execute_reply.started": "2023-02-16T11:08:28.493368Z"
    }
   },
   "outputs": [],
   "source": [
    "import warnings\n",
    "warnings.filterwarnings(\"ignore\")\n",
    "from sklearn.linear_model import LogisticRegression\n",
    "from sklearn.neighbors import KNeighborsClassifier\n",
    "from sklearn.svm import SVC\n",
    "from sklearn.naive_bayes import GaussianNB\n",
    "from sklearn.tree import DecisionTreeClassifier\n",
    "from sklearn.ensemble import RandomForestClassifier\n",
    "from xgboost import XGBClassifier\n",
    "from sklearn.metrics import confusion_matrix, accuracy_score, precision_score, recall_score, f1_score, fbeta_score"
   ]
  },
  {
   "cell_type": "code",
   "execution_count": 67,
   "metadata": {
    "execution": {
     "iopub.execute_input": "2023-02-16T11:08:28.503333Z",
     "iopub.status.busy": "2023-02-16T11:08:28.503039Z",
     "iopub.status.idle": "2023-02-16T11:08:28.516751Z",
     "shell.execute_reply": "2023-02-16T11:08:28.515777Z",
     "shell.execute_reply.started": "2023-02-16T11:08:28.503307Z"
    }
   },
   "outputs": [],
   "source": [
    "models = {\n",
    "    \"LR\": LogisticRegression(),\n",
    "    \"KNN\": KNeighborsClassifier(),\n",
    "    \"DT\": DecisionTreeClassifier(),\n",
    "    \"RF\": RandomForestClassifier(),\n",
    "    \"XGB\": XGBClassifier(),\n",
    "    \"Naive Bayes\": GaussianNB(),\n",
    "    \"SVC\": SVC()\n",
    "\n",
    "}"
   ]
  },
  {
   "cell_type": "code",
   "execution_count": 68,
   "metadata": {
    "execution": {
     "iopub.execute_input": "2023-02-16T11:08:28.518511Z",
     "iopub.status.busy": "2023-02-16T11:08:28.517793Z",
     "iopub.status.idle": "2023-02-16T11:08:35.29997Z",
     "shell.execute_reply": "2023-02-16T11:08:35.298849Z",
     "shell.execute_reply.started": "2023-02-16T11:08:28.51848Z"
    }
   },
   "outputs": [
    {
     "name": "stdout",
     "output_type": "stream",
     "text": [
      "Training Model LR \n",
      "--------------\n",
      "Training Accuracy: 0.8988584474885845\n",
      "Testing Accuracy: 0.9080949482653682\n",
      "Testing Confusion Matrix: \n",
      "[[1565   65]\n",
      " [ 237 1419]]\n",
      "Recall Score :  0.9080949482653682\n",
      "Precision Score :  0.9080949482653682\n",
      "Testing F-1: 0.9080949482653683\n",
      "Testing F-Beta: 0.9080949482653682\n",
      "------------------------------\n",
      "\n",
      "\n",
      "Training Model KNN \n",
      "--------------\n",
      "Training Accuracy: 0.9891933028919331\n",
      "Testing Accuracy: 0.987522824102252\n",
      "Testing Confusion Matrix: \n",
      "[[1597   33]\n",
      " [   8 1648]]\n",
      "Recall Score :  0.987522824102252\n",
      "Precision Score :  0.987522824102252\n",
      "Testing F-1: 0.987522824102252\n",
      "Testing F-Beta: 0.987522824102252\n",
      "------------------------------\n",
      "\n",
      "\n",
      "Training Model DT \n",
      "--------------\n",
      "Training Accuracy: 0.9983257229832573\n",
      "Testing Accuracy: 0.9923919659160073\n",
      "Testing Confusion Matrix: \n",
      "[[1618   12]\n",
      " [  13 1643]]\n",
      "Recall Score :  0.9923919659160073\n",
      "Precision Score :  0.9923919659160073\n",
      "Testing F-1: 0.9923919659160073\n",
      "Testing F-Beta: 0.9923919659160073\n",
      "------------------------------\n",
      "\n",
      "\n",
      "Training Model RF \n",
      "--------------\n",
      "Training Accuracy: 0.9983257229832573\n",
      "Testing Accuracy: 0.992696287279367\n",
      "Testing Confusion Matrix: \n",
      "[[1615   15]\n",
      " [   9 1647]]\n",
      "Recall Score :  0.992696287279367\n",
      "Precision Score :  0.992696287279367\n",
      "Testing F-1: 0.992696287279367\n",
      "Testing F-Beta: 0.9926962872793669\n",
      "------------------------------\n",
      "\n",
      "\n",
      "Training Model XGB \n",
      "--------------\n",
      "Training Accuracy: 0.9955098934550989\n",
      "Testing Accuracy: 0.9939135727328059\n",
      "Testing Confusion Matrix: \n",
      "[[1618   12]\n",
      " [   8 1648]]\n",
      "Recall Score :  0.9939135727328059\n",
      "Precision Score :  0.9939135727328059\n",
      "Testing F-1: 0.9939135727328059\n",
      "Testing F-Beta: 0.9939135727328058\n",
      "------------------------------\n",
      "\n",
      "\n",
      "Training Model Naive Bayes \n",
      "--------------\n",
      "Training Accuracy: 0.7812785388127854\n",
      "Testing Accuracy: 0.7961046865489957\n",
      "Testing Confusion Matrix: \n",
      "[[1254  376]\n",
      " [ 294 1362]]\n",
      "Recall Score :  0.7961046865489957\n",
      "Precision Score :  0.7961046865489957\n",
      "Testing F-1: 0.7961046865489957\n",
      "Testing F-Beta: 0.7961046865489957\n",
      "------------------------------\n",
      "\n",
      "\n",
      "Training Model SVC \n",
      "--------------\n",
      "Training Accuracy: 0.9546423135464231\n",
      "Testing Accuracy: 0.9491783323189288\n",
      "Testing Confusion Matrix: \n",
      "[[1469  161]\n",
      " [   6 1650]]\n",
      "Recall Score :  0.9491783323189288\n",
      "Precision Score :  0.9491783323189288\n",
      "Testing F-1: 0.9491783323189288\n",
      "Testing F-Beta: 0.9491783323189289\n",
      "------------------------------\n",
      "\n",
      "\n"
     ]
    }
   ],
   "source": [
    "for name, model in models.items():\n",
    "    print(f'Training Model {name} \\n--------------')\n",
    "    model.fit(X_train, y_train)\n",
    "    y_pred = model.predict(X_test)\n",
    "    print(f'Training Accuracy: {accuracy_score(y_train, model.predict(X_train))}')\n",
    "    print(f'Testing Accuracy: {accuracy_score(y_test, y_pred)}')\n",
    "    print(f'Testing Confusion Matrix: \\n{confusion_matrix(y_test, y_pred)}')\n",
    "    print(\"Recall Score : \",recall_score(y_test, y_pred, pos_label='positive', average='micro'))    \n",
    "    print(\"Precision Score : \",precision_score(y_test, y_pred,  pos_label='positive',average='micro'))     \n",
    "    print(f\"Testing F-1:\", f1_score(y_test, y_pred, pos_label='positive', average='micro' )        )\n",
    "    print(f\"Testing F-Beta:\", fbeta_score(y_test, y_pred, beta=0.5, pos_label='positive', average='micro'))\n",
    "    print('-'*30)\n",
    "    print(\"\\n\")"
   ]
  },
  {
   "cell_type": "markdown",
   "metadata": {},
   "source": [
    "As we see the XGBoost is the best algorithm with :\n",
    "* accuracy : 99%\n",
    "* F1 score : 99%"
   ]
  },
  {
   "cell_type": "markdown",
   "metadata": {},
   "source": [
    "# Pick the best model"
   ]
  },
  {
   "cell_type": "code",
   "execution_count": 69,
   "metadata": {
    "execution": {
     "iopub.execute_input": "2023-02-16T11:08:35.302113Z",
     "iopub.status.busy": "2023-02-16T11:08:35.301698Z",
     "iopub.status.idle": "2023-02-16T11:08:36.159392Z",
     "shell.execute_reply": "2023-02-16T11:08:36.158481Z",
     "shell.execute_reply.started": "2023-02-16T11:08:35.302064Z"
    }
   },
   "outputs": [
    {
     "name": "stdout",
     "output_type": "stream",
     "text": [
      "XGBClassifier(base_score=None, booster=None, callbacks=None,\n",
      "              colsample_bylevel=None, colsample_bynode=None,\n",
      "              colsample_bytree=None, device=None, early_stopping_rounds=None,\n",
      "              enable_categorical=False, eval_metric=None, feature_types=None,\n",
      "              gamma=None, grow_policy=None, importance_type=None,\n",
      "              interaction_constraints=None, learning_rate=None, max_bin=None,\n",
      "              max_cat_threshold=None, max_cat_to_onehot=None,\n",
      "              max_delta_step=None, max_depth=None, max_leaves=None,\n",
      "              min_child_weight=None, missing=nan, monotone_constraints=None,\n",
      "              multi_strategy=None, n_estimators=None, n_jobs=None,\n",
      "              num_parallel_tree=None, random_state=None, ...)\n"
     ]
    }
   ],
   "source": [
    "#Display the different parameter of the model\n",
    "model = XGBClassifier()\n",
    "model.fit(X_train, y_train)\n",
    "print(model)"
   ]
  },
  {
   "cell_type": "code",
   "execution_count": 70,
   "metadata": {
    "execution": {
     "iopub.execute_input": "2023-02-16T11:08:36.164285Z",
     "iopub.status.busy": "2023-02-16T11:08:36.163297Z",
     "iopub.status.idle": "2023-02-16T11:08:36.181105Z",
     "shell.execute_reply": "2023-02-16T11:08:36.180132Z",
     "shell.execute_reply.started": "2023-02-16T11:08:36.164236Z"
    }
   },
   "outputs": [],
   "source": [
    "# Make predictions for test data\n",
    "y_pred = model.predict(X_test)\n",
    "predictions = [round(value) for value in y_pred]"
   ]
  },
  {
   "cell_type": "code",
   "execution_count": 71,
   "metadata": {
    "execution": {
     "iopub.execute_input": "2023-02-16T11:08:36.1836Z",
     "iopub.status.busy": "2023-02-16T11:08:36.182795Z",
     "iopub.status.idle": "2023-02-16T11:08:36.193893Z",
     "shell.execute_reply": "2023-02-16T11:08:36.192524Z",
     "shell.execute_reply.started": "2023-02-16T11:08:36.183556Z"
    }
   },
   "outputs": [
    {
     "name": "stdout",
     "output_type": "stream",
     "text": [
      "Accuracy: 99.39%\n"
     ]
    }
   ],
   "source": [
    "# Evaluate predictions\n",
    "accuracy = accuracy_score(y_test, predictions)\n",
    "print(\"Accuracy: %.2f%%\" % (accuracy * 100.0))"
   ]
  },
  {
   "cell_type": "markdown",
   "metadata": {},
   "source": [
    "# Prediction for new data"
   ]
  },
  {
   "cell_type": "code",
   "execution_count": 72,
   "metadata": {
    "execution": {
     "iopub.execute_input": "2023-02-16T11:52:35.190992Z",
     "iopub.status.busy": "2023-02-16T11:52:35.190548Z",
     "iopub.status.idle": "2023-02-16T11:52:35.206425Z",
     "shell.execute_reply": "2023-02-16T11:52:35.20522Z",
     "shell.execute_reply.started": "2023-02-16T11:52:35.190956Z"
    }
   },
   "outputs": [
    {
     "name": "stdout",
     "output_type": "stream",
     "text": [
      "is Fraud\n"
     ]
    }
   ],
   "source": [
    "new_data = [[2,9839.64,170136.0,160296.36]]\n",
    "if  model.predict(new_data)[0] == 0:\n",
    "    print('not Fraud')\n",
    "else: print('is Fraud')"
   ]
  },
  {
   "cell_type": "markdown",
   "metadata": {},
   "source": [
    "# or"
   ]
  },
  {
   "cell_type": "code",
   "execution_count": 78,
   "metadata": {},
   "outputs": [
    {
     "name": "stdout",
     "output_type": "stream",
     "text": [
      "\"CASH_OUT\": 1, \"PAYMENT\": 2, \"CASH_IN\": 3, \"TRANSFER\": 4, \"DEBIT\": 5\n"
     ]
    },
    {
     "data": {
      "application/vnd.jupyter.widget-view+json": {
       "model_id": "9dd51d96cd7440c291afc55fe0a71c35",
       "version_major": 2,
       "version_minor": 0
      },
      "text/plain": [
       "FloatText(value=0.0, description='Type:', step=1.0)"
      ]
     },
     "metadata": {},
     "output_type": "display_data"
    },
    {
     "data": {
      "application/vnd.jupyter.widget-view+json": {
       "model_id": "369407f2632c48848ffb30ee9327b278",
       "version_major": 2,
       "version_minor": 0
      },
      "text/plain": [
       "FloatText(value=0.0, description='Amount:', step=0.1)"
      ]
     },
     "metadata": {},
     "output_type": "display_data"
    },
    {
     "data": {
      "application/vnd.jupyter.widget-view+json": {
       "model_id": "a629fca5b6bc4c6ab6ef788a3d2a9089",
       "version_major": 2,
       "version_minor": 0
      },
      "text/plain": [
       "FloatText(value=0.0, description='Old Balance Original:', step=0.1)"
      ]
     },
     "metadata": {},
     "output_type": "display_data"
    },
    {
     "data": {
      "application/vnd.jupyter.widget-view+json": {
       "model_id": "f12f59a7a4f44c8694d7d679ad143562",
       "version_major": 2,
       "version_minor": 0
      },
      "text/plain": [
       "FloatText(value=0.0, description='New Balance Original:', step=0.1)"
      ]
     },
     "metadata": {},
     "output_type": "display_data"
    },
    {
     "data": {
      "application/vnd.jupyter.widget-view+json": {
       "model_id": "b29cd232bc5f4bff9b2196f7e5d07e88",
       "version_major": 2,
       "version_minor": 0
      },
      "text/plain": [
       "Button(description='Predict', style=ButtonStyle())"
      ]
     },
     "metadata": {},
     "output_type": "display_data"
    },
    {
     "name": "stdout",
     "output_type": "stream",
     "text": [
      "Fraudulent activity detected\n"
     ]
    }
   ],
   "source": [
    "print('\"CASH_OUT\": 1, \"PAYMENT\": 2, \"CASH_IN\": 3, \"TRANSFER\": 4, \"DEBIT\": 5')\n",
    "\n",
    "\n",
    "# import ipywidgets as widgets\n",
    "# from IPython.display import display\n",
    "# import pandas as pd\n",
    "\n",
    "# # Assuming you have a DataFrame 'df' with your features\n",
    "# # Example: df = pd.read_csv('your_data.csv')\n",
    "\n",
    "# # Create sliders for each column based on the range of values in the DataFrame\n",
    "# feature1 = widgets.FloatSlider(min=balanced_data['type'].min(), max=balanced_data['type'].max(), step=1, value=balanced_data['type'].mean(), description='Type')\n",
    "# feature2 = widgets.FloatSlider(min=balanced_data['amount'].min(), max=balanced_data['amount'].max(), step=1, value=balanced_data['amount'].mean(), description='Amount')\n",
    "# feature3 = widgets.FloatSlider(min=balanced_data['oldbalanceOrg'].min(), max=balanced_data['oldbalanceOrg'].max(), step=1, value=balanced_data['oldbalanceOrg'].mean(), description='Old Balance Original')\n",
    "# feature4 = widgets.FloatSlider(min=balanced_data['newbalanceOrig'].min(), max=balanced_data['newbalanceOrig'].max(), step=1, value=balanced_data['newbalanceOrig'].mean(), description='New Balance Original')\n",
    "\n",
    "# # Display sliders\n",
    "# display(feature1, feature2, feature3, feature4)\n",
    "\n",
    "# # Button to trigger prediction\n",
    "# predict_button = widgets.Button(description='Predict')\n",
    "\n",
    "# # Function to make prediction based on slider values\n",
    "# def on_button_click(b):\n",
    "#     new_data = [[feature1.value, feature2.value, feature3.value, feature4.value]]\n",
    "#     prediction = model.predict(new_data)[0]\n",
    "#     if prediction == 0:\n",
    "#         print('No fraudulent activity detected')\n",
    "#     else:\n",
    "#         print('Fraudulent activity detected')\n",
    "\n",
    "# # Add button click event\n",
    "# predict_button.on_click(on_button_click)\n",
    "\n",
    "# # Display button\n",
    "# display(predict_button)\n",
    "\n",
    "\n",
    "\n",
    "import ipywidgets as widgets\n",
    "from IPython.display import display\n",
    "import pandas as pd\n",
    "\n",
    "# Assuming you have a DataFrame 'df' with your features\n",
    "# Example: balanced_data = pd.read_csv('your_data.csv')\n",
    "\n",
    "# Create text input fields for each feature\n",
    "feature1 = widgets.FloatText(value=0,step=1 ,description='Type:')\n",
    "feature2 = widgets.FloatText(value=0,step=0.1, description='Amount:')\n",
    "feature3 = widgets.FloatText(value=0,step=0.1, description='Old Balance Original:')\n",
    "feature4 = widgets.FloatText(value=0, step=0.1,description='New Balance Original:')\n",
    "\n",
    "# Display input fields\n",
    "display(feature1, feature2, feature3, feature4)\n",
    "\n",
    "# Button to trigger prediction\n",
    "predict_button = widgets.Button(description='Predict')\n",
    "\n",
    "# Function to make prediction based on input values\n",
    "def on_button_click(b):\n",
    "    new_data = [[feature1.value, feature2.value, feature3.value, feature4.value]]\n",
    "    prediction = model.predict(new_data)[0]\n",
    "    if prediction == 0:\n",
    "        print('No fraudulent activity detected')\n",
    "    else:\n",
    "        print('Fraudulent activity detected')\n",
    "\n",
    "# Add button click event\n",
    "predict_button.on_click(on_button_click)\n",
    "\n",
    "# Display button\n",
    "display(predict_button)\n"
   ]
  },
  {
   "cell_type": "code",
   "execution_count": null,
   "metadata": {},
   "outputs": [],
   "source": []
  }
 ],
 "metadata": {
  "kaggle": {
   "accelerator": "none",
   "dataSources": [
    {
     "datasetId": 2093649,
     "sourceId": 3478314,
     "sourceType": "datasetVersion"
    }
   ],
   "dockerImageVersionId": 30387,
   "isGpuEnabled": false,
   "isInternetEnabled": true,
   "language": "python",
   "sourceType": "notebook"
  },
  "kernelspec": {
   "display_name": "Python 3 (ipykernel)",
   "language": "python",
   "name": "python3"
  },
  "language_info": {
   "codemirror_mode": {
    "name": "ipython",
    "version": 3
   },
   "file_extension": ".py",
   "mimetype": "text/x-python",
   "name": "python",
   "nbconvert_exporter": "python",
   "pygments_lexer": "ipython3",
   "version": "3.10.9"
  }
 },
 "nbformat": 4,
 "nbformat_minor": 4
}
